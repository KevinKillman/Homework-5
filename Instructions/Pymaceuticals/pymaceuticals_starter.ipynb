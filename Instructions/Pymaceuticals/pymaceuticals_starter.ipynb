{
 "cells": [
  {
   "cell_type": "markdown",
   "metadata": {},
   "source": [
    "## Observations and Insights "
   ]
  },
  {
   "cell_type": "markdown",
   "metadata": {},
   "source": []
  },
  {
   "cell_type": "code",
   "execution_count": 20,
   "metadata": {},
   "outputs": [
    {
     "data": {
      "text/html": [
       "<div>\n",
       "<style scoped>\n",
       "    .dataframe tbody tr th:only-of-type {\n",
       "        vertical-align: middle;\n",
       "    }\n",
       "\n",
       "    .dataframe tbody tr th {\n",
       "        vertical-align: top;\n",
       "    }\n",
       "\n",
       "    .dataframe thead th {\n",
       "        text-align: right;\n",
       "    }\n",
       "</style>\n",
       "<table border=\"1\" class=\"dataframe\">\n",
       "  <thead>\n",
       "    <tr style=\"text-align: right;\">\n",
       "      <th></th>\n",
       "      <th>Mouse ID</th>\n",
       "      <th>Timepoint</th>\n",
       "      <th>Tumor Volume (mm3)</th>\n",
       "      <th>Metastatic Sites</th>\n",
       "      <th>Drug Regimen</th>\n",
       "      <th>Sex</th>\n",
       "      <th>Age_months</th>\n",
       "      <th>Weight (g)</th>\n",
       "    </tr>\n",
       "  </thead>\n",
       "  <tbody>\n",
       "    <tr>\n",
       "      <th>0</th>\n",
       "      <td>b128</td>\n",
       "      <td>0</td>\n",
       "      <td>45.000000</td>\n",
       "      <td>0</td>\n",
       "      <td>Capomulin</td>\n",
       "      <td>Female</td>\n",
       "      <td>9</td>\n",
       "      <td>22</td>\n",
       "    </tr>\n",
       "    <tr>\n",
       "      <th>1</th>\n",
       "      <td>b128</td>\n",
       "      <td>5</td>\n",
       "      <td>45.651331</td>\n",
       "      <td>0</td>\n",
       "      <td>Capomulin</td>\n",
       "      <td>Female</td>\n",
       "      <td>9</td>\n",
       "      <td>22</td>\n",
       "    </tr>\n",
       "    <tr>\n",
       "      <th>2</th>\n",
       "      <td>b128</td>\n",
       "      <td>10</td>\n",
       "      <td>43.270852</td>\n",
       "      <td>0</td>\n",
       "      <td>Capomulin</td>\n",
       "      <td>Female</td>\n",
       "      <td>9</td>\n",
       "      <td>22</td>\n",
       "    </tr>\n",
       "    <tr>\n",
       "      <th>3</th>\n",
       "      <td>b128</td>\n",
       "      <td>15</td>\n",
       "      <td>43.784893</td>\n",
       "      <td>0</td>\n",
       "      <td>Capomulin</td>\n",
       "      <td>Female</td>\n",
       "      <td>9</td>\n",
       "      <td>22</td>\n",
       "    </tr>\n",
       "    <tr>\n",
       "      <th>4</th>\n",
       "      <td>b128</td>\n",
       "      <td>20</td>\n",
       "      <td>42.731552</td>\n",
       "      <td>0</td>\n",
       "      <td>Capomulin</td>\n",
       "      <td>Female</td>\n",
       "      <td>9</td>\n",
       "      <td>22</td>\n",
       "    </tr>\n",
       "  </tbody>\n",
       "</table>\n",
       "</div>"
      ],
      "text/plain": [
       "  Mouse ID  Timepoint  Tumor Volume (mm3)  Metastatic Sites Drug Regimen  \\\n",
       "0     b128          0           45.000000                 0    Capomulin   \n",
       "1     b128          5           45.651331                 0    Capomulin   \n",
       "2     b128         10           43.270852                 0    Capomulin   \n",
       "3     b128         15           43.784893                 0    Capomulin   \n",
       "4     b128         20           42.731552                 0    Capomulin   \n",
       "\n",
       "      Sex  Age_months  Weight (g)  \n",
       "0  Female           9          22  \n",
       "1  Female           9          22  \n",
       "2  Female           9          22  \n",
       "3  Female           9          22  \n",
       "4  Female           9          22  "
      ]
     },
     "execution_count": 20,
     "metadata": {},
     "output_type": "execute_result"
    }
   ],
   "source": [
    "# Dependencies and Setup\n",
    "import matplotlib.pyplot as plt\n",
    "import pandas as pd\n",
    "import scipy.stats as st\n",
    "from outlier_function import outlier\n",
    "\n",
    "# Study data files\n",
    "mouse_metadata_path = \"data/Mouse_metadata.csv\"\n",
    "study_results_path = \"data/Study_results.csv\"\n",
    "\n",
    "# Read the mouse data and the study results\n",
    "mouse_metadata = pd.read_csv(mouse_metadata_path)\n",
    "study_results = pd.read_csv(study_results_path)\n",
    "study_results\n",
    "# Combine the data into a single dataset\n",
    "complete_df = pd.merge(study_results, mouse_metadata, on ='Mouse ID', how = 'right')\n",
    "# Display the data table for preview\n",
    "complete_df.head()"
   ]
  },
  {
   "cell_type": "code",
   "execution_count": 40,
   "metadata": {},
   "outputs": [
    {
     "data": {
      "text/plain": [
       "248"
      ]
     },
     "execution_count": 40,
     "metadata": {},
     "output_type": "execute_result"
    }
   ],
   "source": [
    "# Checking the number of mice.\n",
    "len(complete_df['Mouse ID'].unique())\n",
    "len(clean_complete_df.loc[clean_complete_df['Tumor Volume (mm3)'] == 45.000000])"
   ]
  },
  {
   "cell_type": "code",
   "execution_count": 22,
   "metadata": {},
   "outputs": [
    {
     "data": {
      "text/html": [
       "<div>\n",
       "<style scoped>\n",
       "    .dataframe tbody tr th:only-of-type {\n",
       "        vertical-align: middle;\n",
       "    }\n",
       "\n",
       "    .dataframe tbody tr th {\n",
       "        vertical-align: top;\n",
       "    }\n",
       "\n",
       "    .dataframe thead th {\n",
       "        text-align: right;\n",
       "    }\n",
       "</style>\n",
       "<table border=\"1\" class=\"dataframe\">\n",
       "  <thead>\n",
       "    <tr style=\"text-align: right;\">\n",
       "      <th></th>\n",
       "      <th>Mouse ID</th>\n",
       "      <th>Timepoint</th>\n",
       "      <th>Tumor Volume (mm3)</th>\n",
       "      <th>Metastatic Sites</th>\n",
       "      <th>Drug Regimen</th>\n",
       "      <th>Sex</th>\n",
       "      <th>Age_months</th>\n",
       "      <th>Weight (g)</th>\n",
       "    </tr>\n",
       "  </thead>\n",
       "  <tbody>\n",
       "    <tr>\n",
       "      <th>0</th>\n",
       "      <td>g989</td>\n",
       "      <td>0</td>\n",
       "      <td>2</td>\n",
       "      <td>2</td>\n",
       "      <td>2</td>\n",
       "      <td>2</td>\n",
       "      <td>2</td>\n",
       "      <td>2</td>\n",
       "    </tr>\n",
       "    <tr>\n",
       "      <th>1</th>\n",
       "      <td>g989</td>\n",
       "      <td>5</td>\n",
       "      <td>2</td>\n",
       "      <td>2</td>\n",
       "      <td>2</td>\n",
       "      <td>2</td>\n",
       "      <td>2</td>\n",
       "      <td>2</td>\n",
       "    </tr>\n",
       "    <tr>\n",
       "      <th>2</th>\n",
       "      <td>g989</td>\n",
       "      <td>10</td>\n",
       "      <td>2</td>\n",
       "      <td>2</td>\n",
       "      <td>2</td>\n",
       "      <td>2</td>\n",
       "      <td>2</td>\n",
       "      <td>2</td>\n",
       "    </tr>\n",
       "    <tr>\n",
       "      <th>3</th>\n",
       "      <td>g989</td>\n",
       "      <td>15</td>\n",
       "      <td>2</td>\n",
       "      <td>2</td>\n",
       "      <td>2</td>\n",
       "      <td>2</td>\n",
       "      <td>2</td>\n",
       "      <td>2</td>\n",
       "    </tr>\n",
       "    <tr>\n",
       "      <th>4</th>\n",
       "      <td>g989</td>\n",
       "      <td>20</td>\n",
       "      <td>2</td>\n",
       "      <td>2</td>\n",
       "      <td>2</td>\n",
       "      <td>2</td>\n",
       "      <td>2</td>\n",
       "      <td>2</td>\n",
       "    </tr>\n",
       "  </tbody>\n",
       "</table>\n",
       "</div>"
      ],
      "text/plain": [
       "  Mouse ID  Timepoint  Tumor Volume (mm3)  Metastatic Sites  Drug Regimen  \\\n",
       "0     g989          0                   2                 2             2   \n",
       "1     g989          5                   2                 2             2   \n",
       "2     g989         10                   2                 2             2   \n",
       "3     g989         15                   2                 2             2   \n",
       "4     g989         20                   2                 2             2   \n",
       "\n",
       "   Sex  Age_months  Weight (g)  \n",
       "0    2           2           2  \n",
       "1    2           2           2  \n",
       "2    2           2           2  \n",
       "3    2           2           2  \n",
       "4    2           2           2  "
      ]
     },
     "execution_count": 22,
     "metadata": {},
     "output_type": "execute_result"
    }
   ],
   "source": [
    "# Getting the duplicate mice by ID number that shows up for Mouse ID and Timepoint. \n",
    "count=complete_df.groupby(['Mouse ID', 'Timepoint']).count()\n",
    "t = count.loc[count['Drug Regimen']>1, :]\n",
    "t = t.reset_index()\n",
    "t\n",
    "\n",
    "\n",
    "# clean_complete_df = complete_df.drop_duplicates(['Mouse ID', 'Timepoint'], keep= False)\n",
    "# clean_complete_df"
   ]
  },
  {
   "cell_type": "code",
   "execution_count": 23,
   "metadata": {},
   "outputs": [
    {
     "data": {
      "text/html": [
       "<div>\n",
       "<style scoped>\n",
       "    .dataframe tbody tr th:only-of-type {\n",
       "        vertical-align: middle;\n",
       "    }\n",
       "\n",
       "    .dataframe tbody tr th {\n",
       "        vertical-align: top;\n",
       "    }\n",
       "\n",
       "    .dataframe thead th {\n",
       "        text-align: right;\n",
       "    }\n",
       "</style>\n",
       "<table border=\"1\" class=\"dataframe\">\n",
       "  <thead>\n",
       "    <tr style=\"text-align: right;\">\n",
       "      <th></th>\n",
       "      <th>Mouse ID</th>\n",
       "      <th>Timepoint</th>\n",
       "      <th>Tumor Volume (mm3)</th>\n",
       "      <th>Metastatic Sites</th>\n",
       "      <th>Drug Regimen</th>\n",
       "      <th>Sex</th>\n",
       "      <th>Age_months</th>\n",
       "      <th>Weight (g)</th>\n",
       "    </tr>\n",
       "  </thead>\n",
       "  <tbody>\n",
       "    <tr>\n",
       "      <th>860</th>\n",
       "      <td>g989</td>\n",
       "      <td>0</td>\n",
       "      <td>45.000000</td>\n",
       "      <td>0</td>\n",
       "      <td>Propriva</td>\n",
       "      <td>Female</td>\n",
       "      <td>21</td>\n",
       "      <td>26</td>\n",
       "    </tr>\n",
       "    <tr>\n",
       "      <th>861</th>\n",
       "      <td>g989</td>\n",
       "      <td>0</td>\n",
       "      <td>45.000000</td>\n",
       "      <td>0</td>\n",
       "      <td>Propriva</td>\n",
       "      <td>Female</td>\n",
       "      <td>21</td>\n",
       "      <td>26</td>\n",
       "    </tr>\n",
       "    <tr>\n",
       "      <th>862</th>\n",
       "      <td>g989</td>\n",
       "      <td>5</td>\n",
       "      <td>48.786801</td>\n",
       "      <td>0</td>\n",
       "      <td>Propriva</td>\n",
       "      <td>Female</td>\n",
       "      <td>21</td>\n",
       "      <td>26</td>\n",
       "    </tr>\n",
       "    <tr>\n",
       "      <th>863</th>\n",
       "      <td>g989</td>\n",
       "      <td>5</td>\n",
       "      <td>47.570392</td>\n",
       "      <td>0</td>\n",
       "      <td>Propriva</td>\n",
       "      <td>Female</td>\n",
       "      <td>21</td>\n",
       "      <td>26</td>\n",
       "    </tr>\n",
       "    <tr>\n",
       "      <th>864</th>\n",
       "      <td>g989</td>\n",
       "      <td>10</td>\n",
       "      <td>51.745156</td>\n",
       "      <td>0</td>\n",
       "      <td>Propriva</td>\n",
       "      <td>Female</td>\n",
       "      <td>21</td>\n",
       "      <td>26</td>\n",
       "    </tr>\n",
       "    <tr>\n",
       "      <th>865</th>\n",
       "      <td>g989</td>\n",
       "      <td>10</td>\n",
       "      <td>49.880528</td>\n",
       "      <td>0</td>\n",
       "      <td>Propriva</td>\n",
       "      <td>Female</td>\n",
       "      <td>21</td>\n",
       "      <td>26</td>\n",
       "    </tr>\n",
       "    <tr>\n",
       "      <th>866</th>\n",
       "      <td>g989</td>\n",
       "      <td>15</td>\n",
       "      <td>51.325852</td>\n",
       "      <td>1</td>\n",
       "      <td>Propriva</td>\n",
       "      <td>Female</td>\n",
       "      <td>21</td>\n",
       "      <td>26</td>\n",
       "    </tr>\n",
       "    <tr>\n",
       "      <th>867</th>\n",
       "      <td>g989</td>\n",
       "      <td>15</td>\n",
       "      <td>53.442020</td>\n",
       "      <td>0</td>\n",
       "      <td>Propriva</td>\n",
       "      <td>Female</td>\n",
       "      <td>21</td>\n",
       "      <td>26</td>\n",
       "    </tr>\n",
       "    <tr>\n",
       "      <th>868</th>\n",
       "      <td>g989</td>\n",
       "      <td>20</td>\n",
       "      <td>55.326122</td>\n",
       "      <td>1</td>\n",
       "      <td>Propriva</td>\n",
       "      <td>Female</td>\n",
       "      <td>21</td>\n",
       "      <td>26</td>\n",
       "    </tr>\n",
       "    <tr>\n",
       "      <th>869</th>\n",
       "      <td>g989</td>\n",
       "      <td>20</td>\n",
       "      <td>54.657650</td>\n",
       "      <td>1</td>\n",
       "      <td>Propriva</td>\n",
       "      <td>Female</td>\n",
       "      <td>21</td>\n",
       "      <td>26</td>\n",
       "    </tr>\n",
       "    <tr>\n",
       "      <th>870</th>\n",
       "      <td>g989</td>\n",
       "      <td>25</td>\n",
       "      <td>56.045564</td>\n",
       "      <td>1</td>\n",
       "      <td>Propriva</td>\n",
       "      <td>Female</td>\n",
       "      <td>21</td>\n",
       "      <td>26</td>\n",
       "    </tr>\n",
       "    <tr>\n",
       "      <th>871</th>\n",
       "      <td>g989</td>\n",
       "      <td>30</td>\n",
       "      <td>59.082294</td>\n",
       "      <td>1</td>\n",
       "      <td>Propriva</td>\n",
       "      <td>Female</td>\n",
       "      <td>21</td>\n",
       "      <td>26</td>\n",
       "    </tr>\n",
       "    <tr>\n",
       "      <th>872</th>\n",
       "      <td>g989</td>\n",
       "      <td>35</td>\n",
       "      <td>62.570880</td>\n",
       "      <td>2</td>\n",
       "      <td>Propriva</td>\n",
       "      <td>Female</td>\n",
       "      <td>21</td>\n",
       "      <td>26</td>\n",
       "    </tr>\n",
       "  </tbody>\n",
       "</table>\n",
       "</div>"
      ],
      "text/plain": [
       "    Mouse ID  Timepoint  Tumor Volume (mm3)  Metastatic Sites Drug Regimen  \\\n",
       "860     g989          0           45.000000                 0     Propriva   \n",
       "861     g989          0           45.000000                 0     Propriva   \n",
       "862     g989          5           48.786801                 0     Propriva   \n",
       "863     g989          5           47.570392                 0     Propriva   \n",
       "864     g989         10           51.745156                 0     Propriva   \n",
       "865     g989         10           49.880528                 0     Propriva   \n",
       "866     g989         15           51.325852                 1     Propriva   \n",
       "867     g989         15           53.442020                 0     Propriva   \n",
       "868     g989         20           55.326122                 1     Propriva   \n",
       "869     g989         20           54.657650                 1     Propriva   \n",
       "870     g989         25           56.045564                 1     Propriva   \n",
       "871     g989         30           59.082294                 1     Propriva   \n",
       "872     g989         35           62.570880                 2     Propriva   \n",
       "\n",
       "        Sex  Age_months  Weight (g)  \n",
       "860  Female          21          26  \n",
       "861  Female          21          26  \n",
       "862  Female          21          26  \n",
       "863  Female          21          26  \n",
       "864  Female          21          26  \n",
       "865  Female          21          26  \n",
       "866  Female          21          26  \n",
       "867  Female          21          26  \n",
       "868  Female          21          26  \n",
       "869  Female          21          26  \n",
       "870  Female          21          26  \n",
       "871  Female          21          26  \n",
       "872  Female          21          26  "
      ]
     },
     "execution_count": 23,
     "metadata": {},
     "output_type": "execute_result"
    }
   ],
   "source": [
    "# Optional: Get all the data for the duplicate mouse ID. \n",
    "\n",
    "x = complete_df.loc[complete_df['Mouse ID'] == t['Mouse ID'][0]]\n",
    "x\n"
   ]
  },
  {
   "cell_type": "code",
   "execution_count": 24,
   "metadata": {},
   "outputs": [
    {
     "data": {
      "text/html": [
       "<div>\n",
       "<style scoped>\n",
       "    .dataframe tbody tr th:only-of-type {\n",
       "        vertical-align: middle;\n",
       "    }\n",
       "\n",
       "    .dataframe tbody tr th {\n",
       "        vertical-align: top;\n",
       "    }\n",
       "\n",
       "    .dataframe thead th {\n",
       "        text-align: right;\n",
       "    }\n",
       "</style>\n",
       "<table border=\"1\" class=\"dataframe\">\n",
       "  <thead>\n",
       "    <tr style=\"text-align: right;\">\n",
       "      <th></th>\n",
       "      <th>Mouse ID</th>\n",
       "      <th>Timepoint</th>\n",
       "      <th>Tumor Volume (mm3)</th>\n",
       "      <th>Metastatic Sites</th>\n",
       "      <th>Drug Regimen</th>\n",
       "      <th>Sex</th>\n",
       "      <th>Age_months</th>\n",
       "      <th>Weight (g)</th>\n",
       "    </tr>\n",
       "  </thead>\n",
       "  <tbody>\n",
       "    <tr>\n",
       "      <th>0</th>\n",
       "      <td>b128</td>\n",
       "      <td>0</td>\n",
       "      <td>45.000000</td>\n",
       "      <td>0</td>\n",
       "      <td>Capomulin</td>\n",
       "      <td>Female</td>\n",
       "      <td>9</td>\n",
       "      <td>22</td>\n",
       "    </tr>\n",
       "    <tr>\n",
       "      <th>1</th>\n",
       "      <td>b128</td>\n",
       "      <td>5</td>\n",
       "      <td>45.651331</td>\n",
       "      <td>0</td>\n",
       "      <td>Capomulin</td>\n",
       "      <td>Female</td>\n",
       "      <td>9</td>\n",
       "      <td>22</td>\n",
       "    </tr>\n",
       "    <tr>\n",
       "      <th>2</th>\n",
       "      <td>b128</td>\n",
       "      <td>10</td>\n",
       "      <td>43.270852</td>\n",
       "      <td>0</td>\n",
       "      <td>Capomulin</td>\n",
       "      <td>Female</td>\n",
       "      <td>9</td>\n",
       "      <td>22</td>\n",
       "    </tr>\n",
       "    <tr>\n",
       "      <th>3</th>\n",
       "      <td>b128</td>\n",
       "      <td>15</td>\n",
       "      <td>43.784893</td>\n",
       "      <td>0</td>\n",
       "      <td>Capomulin</td>\n",
       "      <td>Female</td>\n",
       "      <td>9</td>\n",
       "      <td>22</td>\n",
       "    </tr>\n",
       "    <tr>\n",
       "      <th>4</th>\n",
       "      <td>b128</td>\n",
       "      <td>20</td>\n",
       "      <td>42.731552</td>\n",
       "      <td>0</td>\n",
       "      <td>Capomulin</td>\n",
       "      <td>Female</td>\n",
       "      <td>9</td>\n",
       "      <td>22</td>\n",
       "    </tr>\n",
       "    <tr>\n",
       "      <th>...</th>\n",
       "      <td>...</td>\n",
       "      <td>...</td>\n",
       "      <td>...</td>\n",
       "      <td>...</td>\n",
       "      <td>...</td>\n",
       "      <td>...</td>\n",
       "      <td>...</td>\n",
       "      <td>...</td>\n",
       "    </tr>\n",
       "    <tr>\n",
       "      <th>1875</th>\n",
       "      <td>m601</td>\n",
       "      <td>25</td>\n",
       "      <td>33.118756</td>\n",
       "      <td>1</td>\n",
       "      <td>Capomulin</td>\n",
       "      <td>Male</td>\n",
       "      <td>22</td>\n",
       "      <td>17</td>\n",
       "    </tr>\n",
       "    <tr>\n",
       "      <th>1876</th>\n",
       "      <td>m601</td>\n",
       "      <td>30</td>\n",
       "      <td>31.758275</td>\n",
       "      <td>1</td>\n",
       "      <td>Capomulin</td>\n",
       "      <td>Male</td>\n",
       "      <td>22</td>\n",
       "      <td>17</td>\n",
       "    </tr>\n",
       "    <tr>\n",
       "      <th>1877</th>\n",
       "      <td>m601</td>\n",
       "      <td>35</td>\n",
       "      <td>30.834357</td>\n",
       "      <td>1</td>\n",
       "      <td>Capomulin</td>\n",
       "      <td>Male</td>\n",
       "      <td>22</td>\n",
       "      <td>17</td>\n",
       "    </tr>\n",
       "    <tr>\n",
       "      <th>1878</th>\n",
       "      <td>m601</td>\n",
       "      <td>40</td>\n",
       "      <td>31.378045</td>\n",
       "      <td>1</td>\n",
       "      <td>Capomulin</td>\n",
       "      <td>Male</td>\n",
       "      <td>22</td>\n",
       "      <td>17</td>\n",
       "    </tr>\n",
       "    <tr>\n",
       "      <th>1879</th>\n",
       "      <td>m601</td>\n",
       "      <td>45</td>\n",
       "      <td>28.430964</td>\n",
       "      <td>1</td>\n",
       "      <td>Capomulin</td>\n",
       "      <td>Male</td>\n",
       "      <td>22</td>\n",
       "      <td>17</td>\n",
       "    </tr>\n",
       "  </tbody>\n",
       "</table>\n",
       "<p>1880 rows × 8 columns</p>\n",
       "</div>"
      ],
      "text/plain": [
       "     Mouse ID  Timepoint  Tumor Volume (mm3)  Metastatic Sites Drug Regimen  \\\n",
       "0        b128          0           45.000000                 0    Capomulin   \n",
       "1        b128          5           45.651331                 0    Capomulin   \n",
       "2        b128         10           43.270852                 0    Capomulin   \n",
       "3        b128         15           43.784893                 0    Capomulin   \n",
       "4        b128         20           42.731552                 0    Capomulin   \n",
       "...       ...        ...                 ...               ...          ...   \n",
       "1875     m601         25           33.118756                 1    Capomulin   \n",
       "1876     m601         30           31.758275                 1    Capomulin   \n",
       "1877     m601         35           30.834357                 1    Capomulin   \n",
       "1878     m601         40           31.378045                 1    Capomulin   \n",
       "1879     m601         45           28.430964                 1    Capomulin   \n",
       "\n",
       "         Sex  Age_months  Weight (g)  \n",
       "0     Female           9          22  \n",
       "1     Female           9          22  \n",
       "2     Female           9          22  \n",
       "3     Female           9          22  \n",
       "4     Female           9          22  \n",
       "...      ...         ...         ...  \n",
       "1875    Male          22          17  \n",
       "1876    Male          22          17  \n",
       "1877    Male          22          17  \n",
       "1878    Male          22          17  \n",
       "1879    Male          22          17  \n",
       "\n",
       "[1880 rows x 8 columns]"
      ]
     },
     "execution_count": 24,
     "metadata": {},
     "output_type": "execute_result"
    }
   ],
   "source": [
    "#Create a clean DataFrame by dropping the duplicate mouse by its ID.\n",
    "complete_df=complete_df.set_index('Mouse ID')\n",
    "clean_complete_df= complete_df.drop(index = t['Mouse ID'][0], errors = 'ignore')\n",
    "complete_df = complete_df.reset_index()\n",
    "\n",
    "clean_complete_df=clean_complete_df.reset_index()\n",
    "\n",
    "clean_complete_df\n",
    "\n",
    "\n"
   ]
  },
  {
   "cell_type": "code",
   "execution_count": 25,
   "metadata": {},
   "outputs": [
    {
     "data": {
      "text/plain": [
       "248"
      ]
     },
     "execution_count": 25,
     "metadata": {},
     "output_type": "execute_result"
    }
   ],
   "source": [
    "# Checking the number of mice in the clean DataFrame.\n",
    "len(clean_complete_df['Mouse ID'].unique())"
   ]
  },
  {
   "cell_type": "markdown",
   "metadata": {},
   "source": [
    "## Summary Statistics"
   ]
  },
  {
   "cell_type": "code",
   "execution_count": 60,
   "metadata": {},
   "outputs": [
    {
     "data": {
      "text/html": [
       "<style  type=\"text/css\" >\n",
       "</style><table id=\"T_815ab752_f90b_11ea_9cf0_40a3cce58b3d\" ><thead>    <tr>        <th class=\"blank level0\" ></th>        <th class=\"col_heading level0 col0\" >Mean</th>        <th class=\"col_heading level0 col1\" >Standard Deviation</th>        <th class=\"col_heading level0 col2\" >Median</th>        <th class=\"col_heading level0 col3\" >Variance</th>        <th class=\"col_heading level0 col4\" >SEM</th>    </tr>    <tr>        <th class=\"index_name level0\" >Drug Regimen</th>        <th class=\"blank\" ></th>        <th class=\"blank\" ></th>        <th class=\"blank\" ></th>        <th class=\"blank\" ></th>        <th class=\"blank\" ></th>    </tr></thead><tbody>\n",
       "                <tr>\n",
       "                        <th id=\"T_815ab752_f90b_11ea_9cf0_40a3cce58b3dlevel0_row0\" class=\"row_heading level0 row0\" >Capomulin</th>\n",
       "                        <td id=\"T_815ab752_f90b_11ea_9cf0_40a3cce58b3drow0_col0\" class=\"data row0 col0\" >40.68</td>\n",
       "                        <td id=\"T_815ab752_f90b_11ea_9cf0_40a3cce58b3drow0_col1\" class=\"data row0 col1\" >4.99</td>\n",
       "                        <td id=\"T_815ab752_f90b_11ea_9cf0_40a3cce58b3drow0_col2\" class=\"data row0 col2\" >41.56</td>\n",
       "                        <td id=\"T_815ab752_f90b_11ea_9cf0_40a3cce58b3drow0_col3\" class=\"data row0 col3\" >24.95</td>\n",
       "                        <td id=\"T_815ab752_f90b_11ea_9cf0_40a3cce58b3drow0_col4\" class=\"data row0 col4\" >0.33</td>\n",
       "            </tr>\n",
       "            <tr>\n",
       "                        <th id=\"T_815ab752_f90b_11ea_9cf0_40a3cce58b3dlevel0_row1\" class=\"row_heading level0 row1\" >Ceftamin</th>\n",
       "                        <td id=\"T_815ab752_f90b_11ea_9cf0_40a3cce58b3drow1_col0\" class=\"data row1 col0\" >52.59</td>\n",
       "                        <td id=\"T_815ab752_f90b_11ea_9cf0_40a3cce58b3drow1_col1\" class=\"data row1 col1\" >6.27</td>\n",
       "                        <td id=\"T_815ab752_f90b_11ea_9cf0_40a3cce58b3drow1_col2\" class=\"data row1 col2\" >51.78</td>\n",
       "                        <td id=\"T_815ab752_f90b_11ea_9cf0_40a3cce58b3drow1_col3\" class=\"data row1 col3\" >39.29</td>\n",
       "                        <td id=\"T_815ab752_f90b_11ea_9cf0_40a3cce58b3drow1_col4\" class=\"data row1 col4\" >0.47</td>\n",
       "            </tr>\n",
       "            <tr>\n",
       "                        <th id=\"T_815ab752_f90b_11ea_9cf0_40a3cce58b3dlevel0_row2\" class=\"row_heading level0 row2\" >Infubinol</th>\n",
       "                        <td id=\"T_815ab752_f90b_11ea_9cf0_40a3cce58b3drow2_col0\" class=\"data row2 col0\" >52.88</td>\n",
       "                        <td id=\"T_815ab752_f90b_11ea_9cf0_40a3cce58b3drow2_col1\" class=\"data row2 col1\" >6.57</td>\n",
       "                        <td id=\"T_815ab752_f90b_11ea_9cf0_40a3cce58b3drow2_col2\" class=\"data row2 col2\" >51.82</td>\n",
       "                        <td id=\"T_815ab752_f90b_11ea_9cf0_40a3cce58b3drow2_col3\" class=\"data row2 col3\" >43.13</td>\n",
       "                        <td id=\"T_815ab752_f90b_11ea_9cf0_40a3cce58b3drow2_col4\" class=\"data row2 col4\" >0.49</td>\n",
       "            </tr>\n",
       "            <tr>\n",
       "                        <th id=\"T_815ab752_f90b_11ea_9cf0_40a3cce58b3dlevel0_row3\" class=\"row_heading level0 row3\" >Ketapril</th>\n",
       "                        <td id=\"T_815ab752_f90b_11ea_9cf0_40a3cce58b3drow3_col0\" class=\"data row3 col0\" >55.24</td>\n",
       "                        <td id=\"T_815ab752_f90b_11ea_9cf0_40a3cce58b3drow3_col1\" class=\"data row3 col1\" >8.28</td>\n",
       "                        <td id=\"T_815ab752_f90b_11ea_9cf0_40a3cce58b3drow3_col2\" class=\"data row3 col2\" >53.70</td>\n",
       "                        <td id=\"T_815ab752_f90b_11ea_9cf0_40a3cce58b3drow3_col3\" class=\"data row3 col3\" >68.55</td>\n",
       "                        <td id=\"T_815ab752_f90b_11ea_9cf0_40a3cce58b3drow3_col4\" class=\"data row3 col4\" >0.60</td>\n",
       "            </tr>\n",
       "            <tr>\n",
       "                        <th id=\"T_815ab752_f90b_11ea_9cf0_40a3cce58b3dlevel0_row4\" class=\"row_heading level0 row4\" >Naftisol</th>\n",
       "                        <td id=\"T_815ab752_f90b_11ea_9cf0_40a3cce58b3drow4_col0\" class=\"data row4 col0\" >54.33</td>\n",
       "                        <td id=\"T_815ab752_f90b_11ea_9cf0_40a3cce58b3drow4_col1\" class=\"data row4 col1\" >8.13</td>\n",
       "                        <td id=\"T_815ab752_f90b_11ea_9cf0_40a3cce58b3drow4_col2\" class=\"data row4 col2\" >52.51</td>\n",
       "                        <td id=\"T_815ab752_f90b_11ea_9cf0_40a3cce58b3drow4_col3\" class=\"data row4 col3\" >66.17</td>\n",
       "                        <td id=\"T_815ab752_f90b_11ea_9cf0_40a3cce58b3drow4_col4\" class=\"data row4 col4\" >0.60</td>\n",
       "            </tr>\n",
       "            <tr>\n",
       "                        <th id=\"T_815ab752_f90b_11ea_9cf0_40a3cce58b3dlevel0_row5\" class=\"row_heading level0 row5\" >Placebo</th>\n",
       "                        <td id=\"T_815ab752_f90b_11ea_9cf0_40a3cce58b3drow5_col0\" class=\"data row5 col0\" >54.03</td>\n",
       "                        <td id=\"T_815ab752_f90b_11ea_9cf0_40a3cce58b3drow5_col1\" class=\"data row5 col1\" >7.82</td>\n",
       "                        <td id=\"T_815ab752_f90b_11ea_9cf0_40a3cce58b3drow5_col2\" class=\"data row5 col2\" >52.29</td>\n",
       "                        <td id=\"T_815ab752_f90b_11ea_9cf0_40a3cce58b3drow5_col3\" class=\"data row5 col3\" >61.17</td>\n",
       "                        <td id=\"T_815ab752_f90b_11ea_9cf0_40a3cce58b3drow5_col4\" class=\"data row5 col4\" >0.58</td>\n",
       "            </tr>\n",
       "            <tr>\n",
       "                        <th id=\"T_815ab752_f90b_11ea_9cf0_40a3cce58b3dlevel0_row6\" class=\"row_heading level0 row6\" >Propriva</th>\n",
       "                        <td id=\"T_815ab752_f90b_11ea_9cf0_40a3cce58b3drow6_col0\" class=\"data row6 col0\" >52.32</td>\n",
       "                        <td id=\"T_815ab752_f90b_11ea_9cf0_40a3cce58b3drow6_col1\" class=\"data row6 col1\" >6.62</td>\n",
       "                        <td id=\"T_815ab752_f90b_11ea_9cf0_40a3cce58b3drow6_col2\" class=\"data row6 col2\" >50.45</td>\n",
       "                        <td id=\"T_815ab752_f90b_11ea_9cf0_40a3cce58b3drow6_col3\" class=\"data row6 col3\" >43.85</td>\n",
       "                        <td id=\"T_815ab752_f90b_11ea_9cf0_40a3cce58b3drow6_col4\" class=\"data row6 col4\" >0.54</td>\n",
       "            </tr>\n",
       "            <tr>\n",
       "                        <th id=\"T_815ab752_f90b_11ea_9cf0_40a3cce58b3dlevel0_row7\" class=\"row_heading level0 row7\" >Ramicane</th>\n",
       "                        <td id=\"T_815ab752_f90b_11ea_9cf0_40a3cce58b3drow7_col0\" class=\"data row7 col0\" >40.22</td>\n",
       "                        <td id=\"T_815ab752_f90b_11ea_9cf0_40a3cce58b3drow7_col1\" class=\"data row7 col1\" >4.85</td>\n",
       "                        <td id=\"T_815ab752_f90b_11ea_9cf0_40a3cce58b3drow7_col2\" class=\"data row7 col2\" >40.67</td>\n",
       "                        <td id=\"T_815ab752_f90b_11ea_9cf0_40a3cce58b3drow7_col3\" class=\"data row7 col3\" >23.49</td>\n",
       "                        <td id=\"T_815ab752_f90b_11ea_9cf0_40a3cce58b3drow7_col4\" class=\"data row7 col4\" >0.32</td>\n",
       "            </tr>\n",
       "            <tr>\n",
       "                        <th id=\"T_815ab752_f90b_11ea_9cf0_40a3cce58b3dlevel0_row8\" class=\"row_heading level0 row8\" >Stelasyn</th>\n",
       "                        <td id=\"T_815ab752_f90b_11ea_9cf0_40a3cce58b3drow8_col0\" class=\"data row8 col0\" >54.23</td>\n",
       "                        <td id=\"T_815ab752_f90b_11ea_9cf0_40a3cce58b3drow8_col1\" class=\"data row8 col1\" >7.71</td>\n",
       "                        <td id=\"T_815ab752_f90b_11ea_9cf0_40a3cce58b3drow8_col2\" class=\"data row8 col2\" >52.43</td>\n",
       "                        <td id=\"T_815ab752_f90b_11ea_9cf0_40a3cce58b3drow8_col3\" class=\"data row8 col3\" >59.45</td>\n",
       "                        <td id=\"T_815ab752_f90b_11ea_9cf0_40a3cce58b3drow8_col4\" class=\"data row8 col4\" >0.57</td>\n",
       "            </tr>\n",
       "            <tr>\n",
       "                        <th id=\"T_815ab752_f90b_11ea_9cf0_40a3cce58b3dlevel0_row9\" class=\"row_heading level0 row9\" >Zoniferol</th>\n",
       "                        <td id=\"T_815ab752_f90b_11ea_9cf0_40a3cce58b3drow9_col0\" class=\"data row9 col0\" >53.24</td>\n",
       "                        <td id=\"T_815ab752_f90b_11ea_9cf0_40a3cce58b3drow9_col1\" class=\"data row9 col1\" >6.97</td>\n",
       "                        <td id=\"T_815ab752_f90b_11ea_9cf0_40a3cce58b3drow9_col2\" class=\"data row9 col2\" >51.82</td>\n",
       "                        <td id=\"T_815ab752_f90b_11ea_9cf0_40a3cce58b3drow9_col3\" class=\"data row9 col3\" >48.53</td>\n",
       "                        <td id=\"T_815ab752_f90b_11ea_9cf0_40a3cce58b3drow9_col4\" class=\"data row9 col4\" >0.52</td>\n",
       "            </tr>\n",
       "    </tbody></table>"
      ],
      "text/plain": [
       "<pandas.io.formats.style.Styler at 0x1b8acf86388>"
      ]
     },
     "execution_count": 60,
     "metadata": {},
     "output_type": "execute_result"
    }
   ],
   "source": [
    "# Generate a summary statistics table of mean, median, variance, standard deviation, and SEM of the tumor volume for each regimen\n",
    "\n",
    "# This method produces everything in a single groupby function\n",
    "drug_group = clean_complete_df.groupby('Drug Regimen')\n",
    "regimen_summary_df = drug_group['Tumor Volume (mm3)'].describe()\n",
    "regimen_summary_df['Variance'] = drug_group['Tumor Volume (mm3)'].var()\n",
    "regimen_summary_df['SEM']=drug_group['Tumor Volume (mm3)'].sem()\n",
    "regimen_summary_df = regimen_summary_df.drop(columns = ['25%', '75%', 'max', 'min', 'count'])\n",
    "regimen_summary_df = regimen_summary_df.rename(columns = {'mean':'Mean',\n",
    "                                    'std':'Standard Deviation',\n",
    "                                    '50%':'Median'})\n",
    "regimen_summary_df.style.format({'Mean':'{0:,.2f}',\n",
    "                                 'Median':'{0:,.2f}',\n",
    "                                 'Variance':'{0:,.2f}',\n",
    "                                 'Standard Deviation':'{0:,.2f}',\n",
    "                                 'SEM':'{0:,.2f}'})"
   ]
  },
  {
   "cell_type": "markdown",
   "metadata": {},
   "source": [
    "## Bar and Pie Charts"
   ]
  },
  {
   "cell_type": "code",
   "execution_count": 61,
   "metadata": {},
   "outputs": [
    {
     "data": {
      "image/png": "[encoded data removed]",
      "text/plain": [
       "<Figure size 432x288 with 1 Axes>"
      ]
     },
     "metadata": {
      "needs_background": "light"
     },
     "output_type": "display_data"
    }
   ],
   "source": [
    "# Generate a bar plot showing the total number of mice for each treatment throughout the course of the study using pandas. \n",
    "mouse_per_regimen = drug_group['Mouse ID'].unique()\n",
    "mouse_per_regimen = mouse_per_regimen.reset_index()\n",
    "unique_counts = {'Number of Mice':[len(d) for d in mouse_per_regimen['Mouse ID']]}\n",
    "unique_counts=pd.DataFrame(unique_counts)\n",
    "\n",
    "unique_counts = unique_counts.set_index(mouse_per_regimen['Drug Regimen'])\n",
    "mpr_chart = unique_counts.plot(kind = 'bar', facecolor='green', legend=False)\n",
    "mpr_chart.set_title('Mice Per Drug Regimen')\n",
    "mpr_chart.set_ylabel('Number of Mice')\n",
    "\n",
    "\n",
    "unique_counts = unique_counts.reset_index()"
   ]
  },
  {
   "cell_type": "code",
   "execution_count": 29,
   "metadata": {},
   "outputs": [
    {
     "data": {
      "text/plain": [
       "([0, 1, 2, 3, 4, 5, 6, 7, 8, 9], <a list of 10 Text xticklabel objects>)"
      ]
     },
     "execution_count": 29,
     "metadata": {},
     "output_type": "execute_result"
    },
    {
     "data": {
      "image/png": "[encoded data removed]",
      "text/plain": [
       "<Figure size 432x288 with 1 Axes>"
      ]
     },
     "metadata": {
      "needs_background": "light"
     },
     "output_type": "display_data"
    }
   ],
   "source": [
    "# Generate a bar plot showing the total number of mice for each treatment throughout the course of the study using pyplot.\n",
    "plt.bar(unique_counts['Drug Regimen'], unique_counts['Number of Mice'])\n",
    "plt.title('Mice Per Drug Regimen')\n",
    "plt.ylabel('Number of Mice')\n",
    "plt.tight_layout()\n",
    "plt.xticks(rotation=90)\n",
    "\n"
   ]
  },
  {
   "cell_type": "code",
   "execution_count": 30,
   "metadata": {},
   "outputs": [
    {
     "data": {
      "image/png": "[encoded data removed]",
      "text/plain": [
       "<Figure size 432x288 with 1 Axes>"
      ]
     },
     "metadata": {},
     "output_type": "display_data"
    }
   ],
   "source": [
    "# Generate a pie plot showing the distribution of female versus male mice using pandas\n",
    "gender_group = clean_complete_df.groupby('Sex')\n",
    "gender_count = gender_group['Mouse ID'].count()\n",
    "gender_piechart = gender_count.plot(kind='pie', title = 'Mice per gender', autopct='%1.0f%%')\n",
    "gender_count=gender_count.reset_index()\n"
   ]
  },
  {
   "cell_type": "code",
   "execution_count": 31,
   "metadata": {},
   "outputs": [
    {
     "data": {
      "image/png": "[encoded data removed]",
      "text/plain": [
       "<Figure size 432x288 with 1 Axes>"
      ]
     },
     "metadata": {},
     "output_type": "display_data"
    }
   ],
   "source": [
    "# Generate a pie plot showing the distribution of female versus male mice using pyplot\n",
    "gender_count=pd.DataFrame(gender_count)\n",
    "plt.pie(gender_count['Mouse ID'], labels=gender_count['Sex'], autopct='%1.0f%%')\n",
    "plt.title('Mice per gender')\n",
    "plt.show()\n",
    "\n",
    "\n"
   ]
  },
  {
   "cell_type": "markdown",
   "metadata": {},
   "source": [
    "## Quartiles, Outliers and Boxplots"
   ]
  },
  {
   "cell_type": "code",
   "execution_count": 47,
   "metadata": {},
   "outputs": [],
   "source": [
    "#Grabbing only last times\n",
    "\n",
    "last_time_df = clean_complete_df.groupby('Mouse ID').max()\n",
    "last_time_df = last_time_df.reset_index()\n",
    "#dataframe of specific drug regimen. was getting an error when I tried to use the | operator \n",
    "#when in the .loc. so i just split into different dfs and then merged later\n",
    "cap = last_time_df[['Drug Regimen','Mouse ID', 'Timepoint', 'Tumor Volume (mm3)']].loc[last_time_df['Drug Regimen']=='Capomulin']\n",
    "ram = last_time_df[['Drug Regimen','Mouse ID', 'Timepoint', 'Tumor Volume (mm3)']].loc[last_time_df['Drug Regimen']=='Ramicane']\n",
    "inf = last_time_df[['Drug Regimen','Mouse ID', 'Timepoint', 'Tumor Volume (mm3)']].loc[last_time_df['Drug Regimen']=='Infubinol']\n",
    "ceft = last_time_df[['Drug Regimen','Mouse ID', 'Timepoint', 'Tumor Volume (mm3)']].loc[last_time_df['Drug Regimen']=='Ceftamin']\n",
    "\n"
   ]
  },
  {
   "cell_type": "code",
   "execution_count": 49,
   "metadata": {},
   "outputs": [
    {
     "data": {
      "text/html": [
       "<div>\n",
       "<style scoped>\n",
       "    .dataframe tbody tr th:only-of-type {\n",
       "        vertical-align: middle;\n",
       "    }\n",
       "\n",
       "    .dataframe tbody tr th {\n",
       "        vertical-align: top;\n",
       "    }\n",
       "\n",
       "    .dataframe thead th {\n",
       "        text-align: right;\n",
       "    }\n",
       "</style>\n",
       "<table border=\"1\" class=\"dataframe\">\n",
       "  <thead>\n",
       "    <tr style=\"text-align: right;\">\n",
       "      <th></th>\n",
       "      <th>Capomulin</th>\n",
       "      <th>Ramicane</th>\n",
       "      <th>Infubinol</th>\n",
       "      <th>Ceftamin</th>\n",
       "    </tr>\n",
       "  </thead>\n",
       "  <tbody>\n",
       "    <tr>\n",
       "      <th>Lower Bound</th>\n",
       "      <td>42.3765</td>\n",
       "      <td>42.9843</td>\n",
       "      <td>36.8329</td>\n",
       "      <td>25.3554</td>\n",
       "    </tr>\n",
       "    <tr>\n",
       "      <th>Upper Bound</th>\n",
       "      <td>49.3725</td>\n",
       "      <td>48.3596</td>\n",
       "      <td>82.7414</td>\n",
       "      <td>87.6665</td>\n",
       "    </tr>\n",
       "    <tr>\n",
       "      <th>Median</th>\n",
       "      <td>45.8937</td>\n",
       "      <td>45.5219</td>\n",
       "      <td>60.1652</td>\n",
       "      <td>59.852</td>\n",
       "    </tr>\n",
       "    <tr>\n",
       "      <th>IQR</th>\n",
       "      <td>1.74901</td>\n",
       "      <td>1.34383</td>\n",
       "      <td>11.4771</td>\n",
       "      <td>15.5778</td>\n",
       "    </tr>\n",
       "    <tr>\n",
       "      <th>Potential Outliers</th>\n",
       "      <td>[]</td>\n",
       "      <td>[]</td>\n",
       "      <td>[]</td>\n",
       "      <td>[]</td>\n",
       "    </tr>\n",
       "  </tbody>\n",
       "</table>\n",
       "</div>"
      ],
      "text/plain": [
       "                   Capomulin Ramicane Infubinol Ceftamin\n",
       "Lower Bound          42.3765  42.9843   36.8329  25.3554\n",
       "Upper Bound          49.3725  48.3596   82.7414  87.6665\n",
       "Median               45.8937  45.5219   60.1652   59.852\n",
       "IQR                  1.74901  1.34383   11.4771  15.5778\n",
       "Potential Outliers        []       []        []       []"
      ]
     },
     "execution_count": 49,
     "metadata": {},
     "output_type": "execute_result"
    }
   ],
   "source": [
    "\n",
    "\n",
    "#Created and Imported my own function to calculate outliers and relevant information.\n",
    "outlier_output_df = pd.DataFrame({'Capomulin':(outlier(cap['Tumor Volume (mm3)'])),\n",
    "              'Ramicane':(outlier(ram['Tumor Volume (mm3)'])),\n",
    "              'Infubinol': (outlier(inf['Tumor Volume (mm3)'])),\n",
    "              'Ceftamin': (outlier(ceft['Tumor Volume (mm3)']))})\n",
    "outlier_output_df"
   ]
  },
  {
   "cell_type": "code",
   "execution_count": 50,
   "metadata": {},
   "outputs": [
    {
     "data": {
      "image/png": "[encoded data removed]",
      "text/plain": [
       "<Figure size 432x288 with 1 Axes>"
      ]
     },
     "metadata": {
      "needs_background": "light"
     },
     "output_type": "display_data"
    }
   ],
   "source": [
    "#Using a dictionary of lists to get boxplots on same plot.\n",
    "chart_data = {'Capomulin' : [x for x in cap['Tumor Volume (mm3)']],\n",
    "              'Ramicane' : [x for x in ram['Tumor Volume (mm3)']],\n",
    "              'Infubinol' : [x for x in inf['Tumor Volume (mm3)']],\n",
    "              'Ceftamin' : [x for x in ceft['Tumor Volume (mm3)']]}\n",
    "box = plt.figure().subplots()\n",
    "box.boxplot(chart_data.values(), labels = chart_data.keys())\n",
    "plt.title('Final Tumor Volume of Mouse per Drug Regimen')\n",
    "plt.xlabel('Drug Regimen')\n",
    "plt.ylabel('Tumor Volume (mm3)')\n",
    "plt.tight_layout()\n",
    "plt.show()\n",
    "\n",
    "# Capomulin, Ramicane, Infubinol, and Ceftamin"
   ]
  },
  {
   "cell_type": "markdown",
   "metadata": {},
   "source": [
    "## Line and Scatter Plots"
   ]
  },
  {
   "cell_type": "code",
   "execution_count": 35,
   "metadata": {},
   "outputs": [
    {
     "data": {
      "image/png": "[encoded data removed]",
      "text/plain": [
       "<Figure size 432x288 with 1 Axes>"
      ]
     },
     "metadata": {
      "needs_background": "light"
     },
     "output_type": "display_data"
    }
   ],
   "source": [
    "# Generate a line plot of time point versus tumor volume for a mouse treated with Capomulin\\\n",
    "mouse_id = 'b128' #using variable to make chart dynamic for different mice \n",
    "mouse = clean_complete_df.loc[clean_complete_df['Mouse ID']==mouse_id]\n",
    "plt.plot(mouse['Timepoint'], mouse['Tumor Volume (mm3)'])\n",
    "plt.xlabel('Timepoint')\n",
    "plt.ylabel('Tumor Volume (mm3)')\n",
    "plt.title(f'Mouse ID: {mouse_id}')\n",
    "plt.show()\n"
   ]
  },
  {
   "cell_type": "code",
   "execution_count": 36,
   "metadata": {},
   "outputs": [
    {
     "data": {
      "image/png": "[encoded data removed]",
      "text/plain": [
       "<Figure size 432x288 with 1 Axes>"
      ]
     },
     "metadata": {
      "needs_background": "light"
     },
     "output_type": "display_data"
    }
   ],
   "source": [
    "# Generate a scatter plot of mouse weight versus average tumor volume for the Capomulin regimen\n",
    "tot_cap = clean_complete_df.loc[clean_complete_df['Drug Regimen'] == 'Capomulin']\n",
    "avg_mouse_group = tot_cap.groupby('Mouse ID').mean()\n",
    "plt.scatter(avg_mouse_group['Tumor Volume (mm3)'], avg_mouse_group['Weight (g)']) #since the weight doesnt change we can use the .mean() values for plot\n",
    "plt.ylabel('Weight (g)')\n",
    "plt.xlabel('Average Tumor Volume')\n",
    "plt.title('Weight (g) vs. Average Tumor Volume (mm3)')\n",
    "plt.show()"
   ]
  },
  {
   "cell_type": "markdown",
   "metadata": {},
   "source": [
    "## Correlation and Regression"
   ]
  },
  {
   "cell_type": "code",
   "execution_count": 37,
   "metadata": {},
   "outputs": [
    {
     "data": {
      "image/png": "[encoded data removed]",
      "text/plain": [
       "<Figure size 432x288 with 1 Axes>"
      ]
     },
     "metadata": {
      "needs_background": "light"
     },
     "output_type": "display_data"
    }
   ],
   "source": [
    "# Calculate the correlation coefficient and linear regression model \n",
    "# for mouse weight and average tumor volume for the Capomulin regimen\n",
    "x_values = avg_mouse_group['Tumor Volume (mm3)']\n",
    "y_values = avg_mouse_group['Weight (g)']\n",
    "(slope, intercept, rvalue, pvalue, stderr) = st.linregress(x_values, y_values)\n",
    "tumor_values_regress = [(slope*x)+intercept for x in x_values]\n",
    "tumor_values_regress\n",
    "plt.scatter(avg_mouse_group['Tumor Volume (mm3)'], avg_mouse_group['Weight (g)']) #since the weight doesnt change we can use the .mean() values for plot\n",
    "plt.plot(x_values,tumor_values_regress)\n",
    "equation = f'{slope:.2f}x + {intercept:.2f}'\n",
    "plt.annotate(f'Line: {equation}', (36,24), fontsize = 15, color = 'green')\n",
    "plt.ylabel('Weight (g)')\n",
    "plt.xlabel('Average Tumor Volume')\n",
    "plt.title('Weight (g) vs. Average Tumor Volume (mm3)')\n",
    "plt.show()"
   ]
  },
  {
   "cell_type": "code",
   "execution_count": null,
   "metadata": {},
   "outputs": [],
   "source": []
  }
 ],
 "metadata": {
  "anaconda-cloud": {},
  "kernelspec": {
   "display_name": "Python 3",
   "language": "python",
   "name": "python3"
  },
  "language_info": {
   "codemirror_mode": {
    "name": "ipython",
    "version": 3
   },
   "file_extension": ".py",
   "mimetype": "text/x-python",
   "name": "python",
   "nbconvert_exporter": "python",
   "pygments_lexer": "ipython3",
   "version": "3.7.6"
  }
 },
 "nbformat": 4,
 "nbformat_minor": 4
}
