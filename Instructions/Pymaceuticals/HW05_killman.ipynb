{
 "cells": [
  {
   "cell_type": "markdown",
   "metadata": {},
   "source": [
    "## Observations and Insights\n",
    "\n",
    "My first observation comes from the last section of code that refers to mouse weight and average tumor volume. The linear regression and correlation calculations show that there is a significant positive correlation between these two variables. It shows that as the tumor volume increases, we expect to find that the weight has also increased.\n",
    "\n",
    "Second, it is clear from the boxplots that two of the drugs have a much larger spread of final tumor volume than the other two. Mice were removed early from the study, and their data was recorded with their last measured tumor volume as their final volume. This could skew the data if too many mice were removed early.\n",
    "\n",
    "Finally, it seems that two of the drugs were extremely effective while the other two were ineffective. Things to keep in mind with this observation:  \n",
    "- boxplot only shows final tumor volume and does not take into account other variables\n",
    "    - We see a correlation with weight and average tumor volume, so we would have to ensure that the mice across the drug regimen were of similar weight\n",
    "- We do not look into how the age of the mice affects tumor volume."
   ]
  },
  {
   "cell_type": "code",
   "execution_count": 1,
   "metadata": {},
   "outputs": [
    {
     "data": {
      "text/html": [
       "<div>\n",
       "<style scoped>\n",
       "    .dataframe tbody tr th:only-of-type {\n",
       "        vertical-align: middle;\n",
       "    }\n",
       "\n",
       "    .dataframe tbody tr th {\n",
       "        vertical-align: top;\n",
       "    }\n",
       "\n",
       "    .dataframe thead th {\n",
       "        text-align: right;\n",
       "    }\n",
       "</style>\n",
       "<table border=\"1\" class=\"dataframe\">\n",
       "  <thead>\n",
       "    <tr style=\"text-align: right;\">\n",
       "      <th></th>\n",
       "      <th>Mouse ID</th>\n",
       "      <th>Timepoint</th>\n",
       "      <th>Tumor Volume (mm3)</th>\n",
       "      <th>Metastatic Sites</th>\n",
       "      <th>Drug Regimen</th>\n",
       "      <th>Sex</th>\n",
       "      <th>Age_months</th>\n",
       "      <th>Weight (g)</th>\n",
       "    </tr>\n",
       "  </thead>\n",
       "  <tbody>\n",
       "    <tr>\n",
       "      <th>0</th>\n",
       "      <td>b128</td>\n",
       "      <td>0</td>\n",
       "      <td>45.0</td>\n",
       "      <td>0</td>\n",
       "      <td>Capomulin</td>\n",
       "      <td>Female</td>\n",
       "      <td>9</td>\n",
       "      <td>22</td>\n",
       "    </tr>\n",
       "    <tr>\n",
       "      <th>1</th>\n",
       "      <td>f932</td>\n",
       "      <td>0</td>\n",
       "      <td>45.0</td>\n",
       "      <td>0</td>\n",
       "      <td>Ketapril</td>\n",
       "      <td>Male</td>\n",
       "      <td>15</td>\n",
       "      <td>29</td>\n",
       "    </tr>\n",
       "    <tr>\n",
       "      <th>2</th>\n",
       "      <td>g107</td>\n",
       "      <td>0</td>\n",
       "      <td>45.0</td>\n",
       "      <td>0</td>\n",
       "      <td>Ketapril</td>\n",
       "      <td>Female</td>\n",
       "      <td>2</td>\n",
       "      <td>29</td>\n",
       "    </tr>\n",
       "    <tr>\n",
       "      <th>3</th>\n",
       "      <td>a457</td>\n",
       "      <td>0</td>\n",
       "      <td>45.0</td>\n",
       "      <td>0</td>\n",
       "      <td>Ketapril</td>\n",
       "      <td>Female</td>\n",
       "      <td>11</td>\n",
       "      <td>30</td>\n",
       "    </tr>\n",
       "    <tr>\n",
       "      <th>4</th>\n",
       "      <td>c819</td>\n",
       "      <td>0</td>\n",
       "      <td>45.0</td>\n",
       "      <td>0</td>\n",
       "      <td>Ketapril</td>\n",
       "      <td>Male</td>\n",
       "      <td>21</td>\n",
       "      <td>25</td>\n",
       "    </tr>\n",
       "  </tbody>\n",
       "</table>\n",
       "</div>"
      ],
      "text/plain": [
       "  Mouse ID  Timepoint  Tumor Volume (mm3)  Metastatic Sites Drug Regimen  \\\n",
       "0     b128          0                45.0                 0    Capomulin   \n",
       "1     f932          0                45.0                 0     Ketapril   \n",
       "2     g107          0                45.0                 0     Ketapril   \n",
       "3     a457          0                45.0                 0     Ketapril   \n",
       "4     c819          0                45.0                 0     Ketapril   \n",
       "\n",
       "      Sex  Age_months  Weight (g)  \n",
       "0  Female           9          22  \n",
       "1    Male          15          29  \n",
       "2  Female           2          29  \n",
       "3  Female          11          30  \n",
       "4    Male          21          25  "
      ]
     },
     "execution_count": 1,
     "metadata": {},
     "output_type": "execute_result"
    }
   ],
   "source": [
    "\n",
    "\n",
    "# Dependencies and Setup\n",
    "import matplotlib.pyplot as plt\n",
    "import pandas as pd\n",
    "import scipy.stats as st\n",
    "from outlier_function import outlier\n",
    "\n",
    "# Study data files\n",
    "mouse_metadata_path = \"data/Mouse_metadata.csv\"\n",
    "study_results_path = \"data/Study_results.csv\"\n",
    "\n",
    "# Read the mouse data and the study results\n",
    "mouse_metadata = pd.read_csv(mouse_metadata_path)\n",
    "study_results = pd.read_csv(study_results_path)\n",
    "study_results\n",
    "# Combine the data into a single dataset\n",
    "complete_df = pd.merge(study_results, mouse_metadata, on ='Mouse ID', how = 'left')\n",
    "# Display the data table for preview\n",
    "complete_df.head()"
   ]
  },
  {
   "cell_type": "code",
   "execution_count": 2,
   "metadata": {},
   "outputs": [
    {
     "data": {
      "text/plain": [
       "249"
      ]
     },
     "execution_count": 2,
     "metadata": {},
     "output_type": "execute_result"
    }
   ],
   "source": [
    "# Checking the number of mice.\n",
    "len(complete_df['Mouse ID'].unique())\n"
   ]
  },
  {
   "cell_type": "code",
   "execution_count": 3,
   "metadata": {},
   "outputs": [
    {
     "data": {
      "text/html": [
       "<div>\n",
       "<style scoped>\n",
       "    .dataframe tbody tr th:only-of-type {\n",
       "        vertical-align: middle;\n",
       "    }\n",
       "\n",
       "    .dataframe tbody tr th {\n",
       "        vertical-align: top;\n",
       "    }\n",
       "\n",
       "    .dataframe thead th {\n",
       "        text-align: right;\n",
       "    }\n",
       "</style>\n",
       "<table border=\"1\" class=\"dataframe\">\n",
       "  <thead>\n",
       "    <tr style=\"text-align: right;\">\n",
       "      <th></th>\n",
       "      <th>Mouse ID</th>\n",
       "      <th>Timepoint</th>\n",
       "      <th>Tumor Volume (mm3)</th>\n",
       "      <th>Metastatic Sites</th>\n",
       "      <th>Drug Regimen</th>\n",
       "      <th>Sex</th>\n",
       "      <th>Age_months</th>\n",
       "      <th>Weight (g)</th>\n",
       "    </tr>\n",
       "  </thead>\n",
       "  <tbody>\n",
       "    <tr>\n",
       "      <th>0</th>\n",
       "      <td>g989</td>\n",
       "      <td>0</td>\n",
       "      <td>2</td>\n",
       "      <td>2</td>\n",
       "      <td>2</td>\n",
       "      <td>2</td>\n",
       "      <td>2</td>\n",
       "      <td>2</td>\n",
       "    </tr>\n",
       "    <tr>\n",
       "      <th>1</th>\n",
       "      <td>g989</td>\n",
       "      <td>5</td>\n",
       "      <td>2</td>\n",
       "      <td>2</td>\n",
       "      <td>2</td>\n",
       "      <td>2</td>\n",
       "      <td>2</td>\n",
       "      <td>2</td>\n",
       "    </tr>\n",
       "    <tr>\n",
       "      <th>2</th>\n",
       "      <td>g989</td>\n",
       "      <td>10</td>\n",
       "      <td>2</td>\n",
       "      <td>2</td>\n",
       "      <td>2</td>\n",
       "      <td>2</td>\n",
       "      <td>2</td>\n",
       "      <td>2</td>\n",
       "    </tr>\n",
       "    <tr>\n",
       "      <th>3</th>\n",
       "      <td>g989</td>\n",
       "      <td>15</td>\n",
       "      <td>2</td>\n",
       "      <td>2</td>\n",
       "      <td>2</td>\n",
       "      <td>2</td>\n",
       "      <td>2</td>\n",
       "      <td>2</td>\n",
       "    </tr>\n",
       "    <tr>\n",
       "      <th>4</th>\n",
       "      <td>g989</td>\n",
       "      <td>20</td>\n",
       "      <td>2</td>\n",
       "      <td>2</td>\n",
       "      <td>2</td>\n",
       "      <td>2</td>\n",
       "      <td>2</td>\n",
       "      <td>2</td>\n",
       "    </tr>\n",
       "  </tbody>\n",
       "</table>\n",
       "</div>"
      ],
      "text/plain": [
       "  Mouse ID  Timepoint  Tumor Volume (mm3)  Metastatic Sites  Drug Regimen  \\\n",
       "0     g989          0                   2                 2             2   \n",
       "1     g989          5                   2                 2             2   \n",
       "2     g989         10                   2                 2             2   \n",
       "3     g989         15                   2                 2             2   \n",
       "4     g989         20                   2                 2             2   \n",
       "\n",
       "   Sex  Age_months  Weight (g)  \n",
       "0    2           2           2  \n",
       "1    2           2           2  \n",
       "2    2           2           2  \n",
       "3    2           2           2  \n",
       "4    2           2           2  "
      ]
     },
     "execution_count": 3,
     "metadata": {},
     "output_type": "execute_result"
    }
   ],
   "source": [
    "# Getting the duplicate mice by ID number that shows up for Mouse ID and Timepoint. \n",
    "count=complete_df.groupby(['Mouse ID', 'Timepoint']).count()\n",
    "dup_mouse_count = count.loc[count['Drug Regimen']>1, :]\n",
    "dup_mouse_count = dup_mouse_count.reset_index()\n",
    "dup_mouse_count\n",
    "\n",
    "\n",
    "# clean_complete_df = complete_df.drop_duplicates(['Mouse ID', 'Timepoint'], keep= False)\n",
    "# clean_complete_df"
   ]
  },
  {
   "cell_type": "code",
   "execution_count": 4,
   "metadata": {},
   "outputs": [
    {
     "data": {
      "text/html": [
       "<div>\n",
       "<style scoped>\n",
       "    .dataframe tbody tr th:only-of-type {\n",
       "        vertical-align: middle;\n",
       "    }\n",
       "\n",
       "    .dataframe tbody tr th {\n",
       "        vertical-align: top;\n",
       "    }\n",
       "\n",
       "    .dataframe thead th {\n",
       "        text-align: right;\n",
       "    }\n",
       "</style>\n",
       "<table border=\"1\" class=\"dataframe\">\n",
       "  <thead>\n",
       "    <tr style=\"text-align: right;\">\n",
       "      <th></th>\n",
       "      <th>Mouse ID</th>\n",
       "      <th>Timepoint</th>\n",
       "      <th>Tumor Volume (mm3)</th>\n",
       "      <th>Metastatic Sites</th>\n",
       "      <th>Drug Regimen</th>\n",
       "      <th>Sex</th>\n",
       "      <th>Age_months</th>\n",
       "      <th>Weight (g)</th>\n",
       "    </tr>\n",
       "  </thead>\n",
       "  <tbody>\n",
       "    <tr>\n",
       "      <th>107</th>\n",
       "      <td>g989</td>\n",
       "      <td>0</td>\n",
       "      <td>45.000000</td>\n",
       "      <td>0</td>\n",
       "      <td>Propriva</td>\n",
       "      <td>Female</td>\n",
       "      <td>21</td>\n",
       "      <td>26</td>\n",
       "    </tr>\n",
       "    <tr>\n",
       "      <th>137</th>\n",
       "      <td>g989</td>\n",
       "      <td>0</td>\n",
       "      <td>45.000000</td>\n",
       "      <td>0</td>\n",
       "      <td>Propriva</td>\n",
       "      <td>Female</td>\n",
       "      <td>21</td>\n",
       "      <td>26</td>\n",
       "    </tr>\n",
       "    <tr>\n",
       "      <th>329</th>\n",
       "      <td>g989</td>\n",
       "      <td>5</td>\n",
       "      <td>48.786801</td>\n",
       "      <td>0</td>\n",
       "      <td>Propriva</td>\n",
       "      <td>Female</td>\n",
       "      <td>21</td>\n",
       "      <td>26</td>\n",
       "    </tr>\n",
       "    <tr>\n",
       "      <th>360</th>\n",
       "      <td>g989</td>\n",
       "      <td>5</td>\n",
       "      <td>47.570392</td>\n",
       "      <td>0</td>\n",
       "      <td>Propriva</td>\n",
       "      <td>Female</td>\n",
       "      <td>21</td>\n",
       "      <td>26</td>\n",
       "    </tr>\n",
       "    <tr>\n",
       "      <th>620</th>\n",
       "      <td>g989</td>\n",
       "      <td>10</td>\n",
       "      <td>51.745156</td>\n",
       "      <td>0</td>\n",
       "      <td>Propriva</td>\n",
       "      <td>Female</td>\n",
       "      <td>21</td>\n",
       "      <td>26</td>\n",
       "    </tr>\n",
       "    <tr>\n",
       "      <th>681</th>\n",
       "      <td>g989</td>\n",
       "      <td>10</td>\n",
       "      <td>49.880528</td>\n",
       "      <td>0</td>\n",
       "      <td>Propriva</td>\n",
       "      <td>Female</td>\n",
       "      <td>21</td>\n",
       "      <td>26</td>\n",
       "    </tr>\n",
       "    <tr>\n",
       "      <th>815</th>\n",
       "      <td>g989</td>\n",
       "      <td>15</td>\n",
       "      <td>51.325852</td>\n",
       "      <td>1</td>\n",
       "      <td>Propriva</td>\n",
       "      <td>Female</td>\n",
       "      <td>21</td>\n",
       "      <td>26</td>\n",
       "    </tr>\n",
       "    <tr>\n",
       "      <th>869</th>\n",
       "      <td>g989</td>\n",
       "      <td>15</td>\n",
       "      <td>53.442020</td>\n",
       "      <td>0</td>\n",
       "      <td>Propriva</td>\n",
       "      <td>Female</td>\n",
       "      <td>21</td>\n",
       "      <td>26</td>\n",
       "    </tr>\n",
       "    <tr>\n",
       "      <th>950</th>\n",
       "      <td>g989</td>\n",
       "      <td>20</td>\n",
       "      <td>55.326122</td>\n",
       "      <td>1</td>\n",
       "      <td>Propriva</td>\n",
       "      <td>Female</td>\n",
       "      <td>21</td>\n",
       "      <td>26</td>\n",
       "    </tr>\n",
       "    <tr>\n",
       "      <th>1111</th>\n",
       "      <td>g989</td>\n",
       "      <td>20</td>\n",
       "      <td>54.657650</td>\n",
       "      <td>1</td>\n",
       "      <td>Propriva</td>\n",
       "      <td>Female</td>\n",
       "      <td>21</td>\n",
       "      <td>26</td>\n",
       "    </tr>\n",
       "    <tr>\n",
       "      <th>1195</th>\n",
       "      <td>g989</td>\n",
       "      <td>25</td>\n",
       "      <td>56.045564</td>\n",
       "      <td>1</td>\n",
       "      <td>Propriva</td>\n",
       "      <td>Female</td>\n",
       "      <td>21</td>\n",
       "      <td>26</td>\n",
       "    </tr>\n",
       "    <tr>\n",
       "      <th>1380</th>\n",
       "      <td>g989</td>\n",
       "      <td>30</td>\n",
       "      <td>59.082294</td>\n",
       "      <td>1</td>\n",
       "      <td>Propriva</td>\n",
       "      <td>Female</td>\n",
       "      <td>21</td>\n",
       "      <td>26</td>\n",
       "    </tr>\n",
       "    <tr>\n",
       "      <th>1592</th>\n",
       "      <td>g989</td>\n",
       "      <td>35</td>\n",
       "      <td>62.570880</td>\n",
       "      <td>2</td>\n",
       "      <td>Propriva</td>\n",
       "      <td>Female</td>\n",
       "      <td>21</td>\n",
       "      <td>26</td>\n",
       "    </tr>\n",
       "  </tbody>\n",
       "</table>\n",
       "</div>"
      ],
      "text/plain": [
       "     Mouse ID  Timepoint  Tumor Volume (mm3)  Metastatic Sites Drug Regimen  \\\n",
       "107      g989          0           45.000000                 0     Propriva   \n",
       "137      g989          0           45.000000                 0     Propriva   \n",
       "329      g989          5           48.786801                 0     Propriva   \n",
       "360      g989          5           47.570392                 0     Propriva   \n",
       "620      g989         10           51.745156                 0     Propriva   \n",
       "681      g989         10           49.880528                 0     Propriva   \n",
       "815      g989         15           51.325852                 1     Propriva   \n",
       "869      g989         15           53.442020                 0     Propriva   \n",
       "950      g989         20           55.326122                 1     Propriva   \n",
       "1111     g989         20           54.657650                 1     Propriva   \n",
       "1195     g989         25           56.045564                 1     Propriva   \n",
       "1380     g989         30           59.082294                 1     Propriva   \n",
       "1592     g989         35           62.570880                 2     Propriva   \n",
       "\n",
       "         Sex  Age_months  Weight (g)  \n",
       "107   Female          21          26  \n",
       "137   Female          21          26  \n",
       "329   Female          21          26  \n",
       "360   Female          21          26  \n",
       "620   Female          21          26  \n",
       "681   Female          21          26  \n",
       "815   Female          21          26  \n",
       "869   Female          21          26  \n",
       "950   Female          21          26  \n",
       "1111  Female          21          26  \n",
       "1195  Female          21          26  \n",
       "1380  Female          21          26  \n",
       "1592  Female          21          26  "
      ]
     },
     "execution_count": 4,
     "metadata": {},
     "output_type": "execute_result"
    }
   ],
   "source": [
    "# Optional: Get all the data for the duplicate mouse ID. \n",
    "\n",
    "dup_mouse = complete_df.loc[complete_df['Mouse ID'] == dup_mouse_count['Mouse ID'][0]]\n",
    "dup_mouse\n"
   ]
  },
  {
   "cell_type": "code",
   "execution_count": 5,
   "metadata": {},
   "outputs": [
    {
     "data": {
      "text/html": [
       "<div>\n",
       "<style scoped>\n",
       "    .dataframe tbody tr th:only-of-type {\n",
       "        vertical-align: middle;\n",
       "    }\n",
       "\n",
       "    .dataframe tbody tr th {\n",
       "        vertical-align: top;\n",
       "    }\n",
       "\n",
       "    .dataframe thead th {\n",
       "        text-align: right;\n",
       "    }\n",
       "</style>\n",
       "<table border=\"1\" class=\"dataframe\">\n",
       "  <thead>\n",
       "    <tr style=\"text-align: right;\">\n",
       "      <th></th>\n",
       "      <th>Mouse ID</th>\n",
       "      <th>Timepoint</th>\n",
       "      <th>Tumor Volume (mm3)</th>\n",
       "      <th>Metastatic Sites</th>\n",
       "      <th>Drug Regimen</th>\n",
       "      <th>Sex</th>\n",
       "      <th>Age_months</th>\n",
       "      <th>Weight (g)</th>\n",
       "    </tr>\n",
       "  </thead>\n",
       "  <tbody>\n",
       "    <tr>\n",
       "      <th>29</th>\n",
       "      <td>c326</td>\n",
       "      <td>0</td>\n",
       "      <td>45.000000</td>\n",
       "      <td>0</td>\n",
       "      <td>Infubinol</td>\n",
       "      <td>Female</td>\n",
       "      <td>18</td>\n",
       "      <td>25</td>\n",
       "    </tr>\n",
       "    <tr>\n",
       "      <th>416</th>\n",
       "      <td>c326</td>\n",
       "      <td>5</td>\n",
       "      <td>36.321346</td>\n",
       "      <td>0</td>\n",
       "      <td>Infubinol</td>\n",
       "      <td>Female</td>\n",
       "      <td>18</td>\n",
       "      <td>25</td>\n",
       "    </tr>\n",
       "  </tbody>\n",
       "</table>\n",
       "</div>"
      ],
      "text/plain": [
       "    Mouse ID  Timepoint  Tumor Volume (mm3)  Metastatic Sites Drug Regimen  \\\n",
       "29      c326          0           45.000000                 0    Infubinol   \n",
       "416     c326          5           36.321346                 0    Infubinol   \n",
       "\n",
       "        Sex  Age_months  Weight (g)  \n",
       "29   Female          18          25  \n",
       "416  Female          18          25  "
      ]
     },
     "execution_count": 5,
     "metadata": {},
     "output_type": "execute_result"
    }
   ],
   "source": [
    "#Create a clean DataFrame by dropping the duplicate mouse by its ID.\n",
    "complete_df=complete_df.set_index('Mouse ID')\n",
    "clean_complete_df= complete_df.drop(index = dup_mouse_count['Mouse ID'][0], errors = 'ignore')\n",
    "complete_df = complete_df.reset_index()\n",
    "\n",
    "clean_complete_df=clean_complete_df.reset_index()\n",
    "\n",
    "clean_complete_df.loc[clean_complete_df['Mouse ID'] =='c326']\n",
    "\n",
    "\n"
   ]
  },
  {
   "cell_type": "code",
   "execution_count": 6,
   "metadata": {},
   "outputs": [
    {
     "data": {
      "text/plain": [
       "248"
      ]
     },
     "execution_count": 6,
     "metadata": {},
     "output_type": "execute_result"
    }
   ],
   "source": [
    "# Checking the number of mice in the clean DataFrame.\n",
    "len(clean_complete_df['Mouse ID'].unique())"
   ]
  },
  {
   "cell_type": "markdown",
   "metadata": {},
   "source": [
    "## Summary Statistics"
   ]
  },
  {
   "cell_type": "code",
   "execution_count": 7,
   "metadata": {},
   "outputs": [
    {
     "data": {
      "text/html": [
       "<style  type=\"text/css\" >\n",
       "</style><table id=\"T_d2537b34_0387_11eb_9516_40a3cce58b3d\" ><thead>    <tr>        <th class=\"blank level0\" ></th>        <th class=\"col_heading level0 col0\" >Mean</th>        <th class=\"col_heading level0 col1\" >Standard Deviation</th>        <th class=\"col_heading level0 col2\" >Median</th>        <th class=\"col_heading level0 col3\" >Variance</th>        <th class=\"col_heading level0 col4\" >SEM</th>    </tr>    <tr>        <th class=\"index_name level0\" >Drug Regimen</th>        <th class=\"blank\" ></th>        <th class=\"blank\" ></th>        <th class=\"blank\" ></th>        <th class=\"blank\" ></th>        <th class=\"blank\" ></th>    </tr></thead><tbody>\n",
       "                <tr>\n",
       "                        <th id=\"T_d2537b34_0387_11eb_9516_40a3cce58b3dlevel0_row0\" class=\"row_heading level0 row0\" >Capomulin</th>\n",
       "                        <td id=\"T_d2537b34_0387_11eb_9516_40a3cce58b3drow0_col0\" class=\"data row0 col0\" >40.68</td>\n",
       "                        <td id=\"T_d2537b34_0387_11eb_9516_40a3cce58b3drow0_col1\" class=\"data row0 col1\" >4.99</td>\n",
       "                        <td id=\"T_d2537b34_0387_11eb_9516_40a3cce58b3drow0_col2\" class=\"data row0 col2\" >41.56</td>\n",
       "                        <td id=\"T_d2537b34_0387_11eb_9516_40a3cce58b3drow0_col3\" class=\"data row0 col3\" >24.95</td>\n",
       "                        <td id=\"T_d2537b34_0387_11eb_9516_40a3cce58b3drow0_col4\" class=\"data row0 col4\" >0.33</td>\n",
       "            </tr>\n",
       "            <tr>\n",
       "                        <th id=\"T_d2537b34_0387_11eb_9516_40a3cce58b3dlevel0_row1\" class=\"row_heading level0 row1\" >Ceftamin</th>\n",
       "                        <td id=\"T_d2537b34_0387_11eb_9516_40a3cce58b3drow1_col0\" class=\"data row1 col0\" >52.59</td>\n",
       "                        <td id=\"T_d2537b34_0387_11eb_9516_40a3cce58b3drow1_col1\" class=\"data row1 col1\" >6.27</td>\n",
       "                        <td id=\"T_d2537b34_0387_11eb_9516_40a3cce58b3drow1_col2\" class=\"data row1 col2\" >51.78</td>\n",
       "                        <td id=\"T_d2537b34_0387_11eb_9516_40a3cce58b3drow1_col3\" class=\"data row1 col3\" >39.29</td>\n",
       "                        <td id=\"T_d2537b34_0387_11eb_9516_40a3cce58b3drow1_col4\" class=\"data row1 col4\" >0.47</td>\n",
       "            </tr>\n",
       "            <tr>\n",
       "                        <th id=\"T_d2537b34_0387_11eb_9516_40a3cce58b3dlevel0_row2\" class=\"row_heading level0 row2\" >Infubinol</th>\n",
       "                        <td id=\"T_d2537b34_0387_11eb_9516_40a3cce58b3drow2_col0\" class=\"data row2 col0\" >52.88</td>\n",
       "                        <td id=\"T_d2537b34_0387_11eb_9516_40a3cce58b3drow2_col1\" class=\"data row2 col1\" >6.57</td>\n",
       "                        <td id=\"T_d2537b34_0387_11eb_9516_40a3cce58b3drow2_col2\" class=\"data row2 col2\" >51.82</td>\n",
       "                        <td id=\"T_d2537b34_0387_11eb_9516_40a3cce58b3drow2_col3\" class=\"data row2 col3\" >43.13</td>\n",
       "                        <td id=\"T_d2537b34_0387_11eb_9516_40a3cce58b3drow2_col4\" class=\"data row2 col4\" >0.49</td>\n",
       "            </tr>\n",
       "            <tr>\n",
       "                        <th id=\"T_d2537b34_0387_11eb_9516_40a3cce58b3dlevel0_row3\" class=\"row_heading level0 row3\" >Ketapril</th>\n",
       "                        <td id=\"T_d2537b34_0387_11eb_9516_40a3cce58b3drow3_col0\" class=\"data row3 col0\" >55.24</td>\n",
       "                        <td id=\"T_d2537b34_0387_11eb_9516_40a3cce58b3drow3_col1\" class=\"data row3 col1\" >8.28</td>\n",
       "                        <td id=\"T_d2537b34_0387_11eb_9516_40a3cce58b3drow3_col2\" class=\"data row3 col2\" >53.70</td>\n",
       "                        <td id=\"T_d2537b34_0387_11eb_9516_40a3cce58b3drow3_col3\" class=\"data row3 col3\" >68.55</td>\n",
       "                        <td id=\"T_d2537b34_0387_11eb_9516_40a3cce58b3drow3_col4\" class=\"data row3 col4\" >0.60</td>\n",
       "            </tr>\n",
       "            <tr>\n",
       "                        <th id=\"T_d2537b34_0387_11eb_9516_40a3cce58b3dlevel0_row4\" class=\"row_heading level0 row4\" >Naftisol</th>\n",
       "                        <td id=\"T_d2537b34_0387_11eb_9516_40a3cce58b3drow4_col0\" class=\"data row4 col0\" >54.33</td>\n",
       "                        <td id=\"T_d2537b34_0387_11eb_9516_40a3cce58b3drow4_col1\" class=\"data row4 col1\" >8.13</td>\n",
       "                        <td id=\"T_d2537b34_0387_11eb_9516_40a3cce58b3drow4_col2\" class=\"data row4 col2\" >52.51</td>\n",
       "                        <td id=\"T_d2537b34_0387_11eb_9516_40a3cce58b3drow4_col3\" class=\"data row4 col3\" >66.17</td>\n",
       "                        <td id=\"T_d2537b34_0387_11eb_9516_40a3cce58b3drow4_col4\" class=\"data row4 col4\" >0.60</td>\n",
       "            </tr>\n",
       "            <tr>\n",
       "                        <th id=\"T_d2537b34_0387_11eb_9516_40a3cce58b3dlevel0_row5\" class=\"row_heading level0 row5\" >Placebo</th>\n",
       "                        <td id=\"T_d2537b34_0387_11eb_9516_40a3cce58b3drow5_col0\" class=\"data row5 col0\" >54.03</td>\n",
       "                        <td id=\"T_d2537b34_0387_11eb_9516_40a3cce58b3drow5_col1\" class=\"data row5 col1\" >7.82</td>\n",
       "                        <td id=\"T_d2537b34_0387_11eb_9516_40a3cce58b3drow5_col2\" class=\"data row5 col2\" >52.29</td>\n",
       "                        <td id=\"T_d2537b34_0387_11eb_9516_40a3cce58b3drow5_col3\" class=\"data row5 col3\" >61.17</td>\n",
       "                        <td id=\"T_d2537b34_0387_11eb_9516_40a3cce58b3drow5_col4\" class=\"data row5 col4\" >0.58</td>\n",
       "            </tr>\n",
       "            <tr>\n",
       "                        <th id=\"T_d2537b34_0387_11eb_9516_40a3cce58b3dlevel0_row6\" class=\"row_heading level0 row6\" >Propriva</th>\n",
       "                        <td id=\"T_d2537b34_0387_11eb_9516_40a3cce58b3drow6_col0\" class=\"data row6 col0\" >52.32</td>\n",
       "                        <td id=\"T_d2537b34_0387_11eb_9516_40a3cce58b3drow6_col1\" class=\"data row6 col1\" >6.62</td>\n",
       "                        <td id=\"T_d2537b34_0387_11eb_9516_40a3cce58b3drow6_col2\" class=\"data row6 col2\" >50.45</td>\n",
       "                        <td id=\"T_d2537b34_0387_11eb_9516_40a3cce58b3drow6_col3\" class=\"data row6 col3\" >43.85</td>\n",
       "                        <td id=\"T_d2537b34_0387_11eb_9516_40a3cce58b3drow6_col4\" class=\"data row6 col4\" >0.54</td>\n",
       "            </tr>\n",
       "            <tr>\n",
       "                        <th id=\"T_d2537b34_0387_11eb_9516_40a3cce58b3dlevel0_row7\" class=\"row_heading level0 row7\" >Ramicane</th>\n",
       "                        <td id=\"T_d2537b34_0387_11eb_9516_40a3cce58b3drow7_col0\" class=\"data row7 col0\" >40.22</td>\n",
       "                        <td id=\"T_d2537b34_0387_11eb_9516_40a3cce58b3drow7_col1\" class=\"data row7 col1\" >4.85</td>\n",
       "                        <td id=\"T_d2537b34_0387_11eb_9516_40a3cce58b3drow7_col2\" class=\"data row7 col2\" >40.67</td>\n",
       "                        <td id=\"T_d2537b34_0387_11eb_9516_40a3cce58b3drow7_col3\" class=\"data row7 col3\" >23.49</td>\n",
       "                        <td id=\"T_d2537b34_0387_11eb_9516_40a3cce58b3drow7_col4\" class=\"data row7 col4\" >0.32</td>\n",
       "            </tr>\n",
       "            <tr>\n",
       "                        <th id=\"T_d2537b34_0387_11eb_9516_40a3cce58b3dlevel0_row8\" class=\"row_heading level0 row8\" >Stelasyn</th>\n",
       "                        <td id=\"T_d2537b34_0387_11eb_9516_40a3cce58b3drow8_col0\" class=\"data row8 col0\" >54.23</td>\n",
       "                        <td id=\"T_d2537b34_0387_11eb_9516_40a3cce58b3drow8_col1\" class=\"data row8 col1\" >7.71</td>\n",
       "                        <td id=\"T_d2537b34_0387_11eb_9516_40a3cce58b3drow8_col2\" class=\"data row8 col2\" >52.43</td>\n",
       "                        <td id=\"T_d2537b34_0387_11eb_9516_40a3cce58b3drow8_col3\" class=\"data row8 col3\" >59.45</td>\n",
       "                        <td id=\"T_d2537b34_0387_11eb_9516_40a3cce58b3drow8_col4\" class=\"data row8 col4\" >0.57</td>\n",
       "            </tr>\n",
       "            <tr>\n",
       "                        <th id=\"T_d2537b34_0387_11eb_9516_40a3cce58b3dlevel0_row9\" class=\"row_heading level0 row9\" >Zoniferol</th>\n",
       "                        <td id=\"T_d2537b34_0387_11eb_9516_40a3cce58b3drow9_col0\" class=\"data row9 col0\" >53.24</td>\n",
       "                        <td id=\"T_d2537b34_0387_11eb_9516_40a3cce58b3drow9_col1\" class=\"data row9 col1\" >6.97</td>\n",
       "                        <td id=\"T_d2537b34_0387_11eb_9516_40a3cce58b3drow9_col2\" class=\"data row9 col2\" >51.82</td>\n",
       "                        <td id=\"T_d2537b34_0387_11eb_9516_40a3cce58b3drow9_col3\" class=\"data row9 col3\" >48.53</td>\n",
       "                        <td id=\"T_d2537b34_0387_11eb_9516_40a3cce58b3drow9_col4\" class=\"data row9 col4\" >0.52</td>\n",
       "            </tr>\n",
       "    </tbody></table>"
      ],
      "text/plain": [
       "<pandas.io.formats.style.Styler at 0x27b9966b588>"
      ]
     },
     "execution_count": 7,
     "metadata": {},
     "output_type": "execute_result"
    }
   ],
   "source": [
    "# Generate a summary statistics table of mean, median, variance, standard deviation, and SEM of the tumor volume for each regimen\n",
    "\n",
    "# This method produces everything in a single groupby function\n",
    "drug_group = clean_complete_df.groupby('Drug Regimen')\n",
    "regimen_summary_df = drug_group['Tumor Volume (mm3)'].describe()\n",
    "regimen_summary_df['Variance'] = drug_group['Tumor Volume (mm3)'].var()\n",
    "regimen_summary_df['SEM']=drug_group['Tumor Volume (mm3)'].sem()\n",
    "regimen_summary_df = regimen_summary_df.drop(columns = ['25%', '75%', 'max', 'min', 'count'])\n",
    "regimen_summary_df = regimen_summary_df.rename(columns = {'mean':'Mean',\n",
    "                                    'std':'Standard Deviation',\n",
    "                                    '50%':'Median'})\n",
    "regimen_summary_df.style.format({'Mean':'{0:,.2f}',\n",
    "                                 'Median':'{0:,.2f}',\n",
    "                                 'Variance':'{0:,.2f}',\n",
    "                                 'Standard Deviation':'{0:,.2f}',\n",
    "                                 'SEM':'{0:,.2f}'})"
   ]
  },
  {
   "cell_type": "markdown",
   "metadata": {},
   "source": [
    "## Bar and Pie Charts"
   ]
  },
  {
   "cell_type": "code",
   "execution_count": 8,
   "metadata": {},
   "outputs": [
    {
     "data": {
      "text/plain": [
       "Capomulin    230\n",
       "Ramicane     228\n",
       "Ketapril     188\n",
       "Naftisol     186\n",
       "Zoniferol    182\n",
       "Placebo      181\n",
       "Stelasyn     181\n",
       "Infubinol    178\n",
       "Ceftamin     178\n",
       "Propriva     148\n",
       "Name: Drug Regimen, dtype: int64"
      ]
     },
     "execution_count": 8,
     "metadata": {},
     "output_type": "execute_result"
    },
    {
     "data": {
      "image/png": "[encoded data removed]",
      "text/plain": [
       "<Figure size 432x288 with 1 Axes>"
      ]
     },
     "metadata": {
      "needs_background": "light"
     },
     "output_type": "display_data"
    }
   ],
   "source": [
    "# Generate a bar plot showing the total number of mice for each treatment throughout the course of the study using pandas. \n",
    "mouse_per_regimen = drug_group['Mouse ID'].unique()\n",
    "mouse_per_regimen = mouse_per_regimen.reset_index()\n",
    "unique_counts = {'Number of Mice':[len(d) for d in mouse_per_regimen['Mouse ID']]}\n",
    "unique_counts=pd.DataFrame(unique_counts)\n",
    "\n",
    "unique_counts = unique_counts.set_index(mouse_per_regimen['Drug Regimen'])\n",
    "mpr_chart = unique_counts.plot(kind = 'bar', facecolor='green', legend=False)\n",
    "mpr_chart.set_title('Mice Per Drug Regimen')\n",
    "mpr_chart.set_ylabel('Number of Mice')\n",
    "\n",
    "\n",
    "unique_counts = unique_counts.reset_index()\n",
    "clean_complete_df['Drug Regimen'].value_counts()"
   ]
  },
  {
   "cell_type": "code",
   "execution_count": 9,
   "metadata": {},
   "outputs": [
    {
     "data": {
      "text/plain": [
       "([0, 1, 2, 3, 4, 5, 6, 7, 8, 9], <a list of 10 Text xticklabel objects>)"
      ]
     },
     "execution_count": 9,
     "metadata": {},
     "output_type": "execute_result"
    },
    {
     "data": {
      "image/png": "[encoded data removed]",
      "text/plain": [
       "<Figure size 432x288 with 1 Axes>"
      ]
     },
     "metadata": {
      "needs_background": "light"
     },
     "output_type": "display_data"
    }
   ],
   "source": [
    "# Generate a bar plot showing the total number of mice for each treatment throughout the course of the study using pyplot.\n",
    "plt.bar(unique_counts['Drug Regimen'], unique_counts['Number of Mice'])\n",
    "plt.title('Mice Per Drug Regimen')\n",
    "plt.ylabel('Number of Mice')\n",
    "plt.tight_layout()\n",
    "plt.xticks(rotation=90)\n",
    "\n"
   ]
  },
  {
   "cell_type": "code",
   "execution_count": 10,
   "metadata": {},
   "outputs": [
    {
     "data": {
      "image/png": "[encoded data removed]",
      "text/plain": [
       "<Figure size 432x288 with 1 Axes>"
      ]
     },
     "metadata": {},
     "output_type": "display_data"
    }
   ],
   "source": [
    "# Generate a pie plot showing the distribution of female versus male mice using pandas\n",
    "gender_group = clean_complete_df.groupby('Sex')\n",
    "gender_count = gender_group['Mouse ID'].count()\n",
    "gender_piechart = gender_count.plot(kind='pie', title = 'Mice per gender', autopct='%1.0f%%')\n",
    "gender_count=gender_count.reset_index()\n"
   ]
  },
  {
   "cell_type": "code",
   "execution_count": 11,
   "metadata": {},
   "outputs": [
    {
     "data": {
      "image/png": "[encoded data removed]",
      "text/plain": [
       "<Figure size 432x288 with 1 Axes>"
      ]
     },
     "metadata": {},
     "output_type": "display_data"
    }
   ],
   "source": [
    "# Generate a pie plot showing the distribution of female versus male mice using pyplot\n",
    "gender_count=pd.DataFrame(gender_count)\n",
    "plt.pie(gender_count['Mouse ID'], labels=gender_count['Sex'], autopct='%1.0f%%')\n",
    "plt.title('Mice per gender')\n",
    "plt.show()\n",
    "\n",
    "\n"
   ]
  },
  {
   "cell_type": "markdown",
   "metadata": {},
   "source": [
    "## Quartiles, Outliers and Boxplots"
   ]
  },
  {
   "cell_type": "code",
   "execution_count": 12,
   "metadata": {},
   "outputs": [],
   "source": [
    "#Grabbing only last times\n",
    "\n",
    "last_time_df = clean_complete_df.groupby('Mouse ID')['Timepoint'].max()\n",
    "last_time_df = last_time_df.reset_index()\n",
    "#dataframe of specific drug regimen. was getting an error when I tried to use the | operator \n",
    "#when in the .loc. so i just split into different dfs \n",
    "# cap = last_time_df[['Drug Regimen','Mouse ID', 'Timepoint', 'Tumor Volume (mm3)']].loc[last_time_df['Drug Regimen']=='Capomulin']\n",
    "# ram = last_time_df[['Drug Regimen','Mouse ID', 'Timepoint', 'Tumor Volume (mm3)']].loc[last_time_df['Drug Regimen']=='Ramicane']\n",
    "# inf = last_time_df[['Drug Regimen','Mouse ID', 'Timepoint', 'Tumor Volume (mm3)']].loc[last_time_df['Drug Regimen']=='Infubinol']\n",
    "# ceft = last_time_df[['Drug Regimen','Mouse ID', 'Timepoint', 'Tumor Volume (mm3)']].loc[last_time_df['Drug Regimen']=='Ceftamin']\n",
    "# last_time_df.loc[(last_time_df['Timepoint'].max()) & (last_time_df['Drug Regimen'] == 'Infubinol'), 'Tumor Volume (mm3)']\n",
    "\n",
    "merged_data = pd.merge(last_time_df, clean_complete_df, on=['Mouse ID', 'Timepoint'])\n",
    "merged_data\n",
    "cap = merged_data[['Mouse ID', 'Timepoint', 'Tumor Volume (mm3)']].loc[merged_data['Drug Regimen']=='Capomulin']\n",
    "ram = merged_data[['Mouse ID', 'Timepoint', 'Tumor Volume (mm3)']].loc[merged_data['Drug Regimen']=='Ramicane']\n",
    "inf = merged_data[['Mouse ID', 'Timepoint', 'Tumor Volume (mm3)']].loc[merged_data['Drug Regimen']=='Infubinol']\n",
    "ceft = merged_data[['Mouse ID', 'Timepoint', 'Tumor Volume (mm3)']].loc[merged_data['Drug Regimen']=='Ceftamin']\n"
   ]
  },
  {
   "cell_type": "code",
   "execution_count": 20,
   "metadata": {},
   "outputs": [
    {
     "data": {
      "text/html": [
       "<div>\n",
       "<style scoped>\n",
       "    .dataframe tbody tr th:only-of-type {\n",
       "        vertical-align: middle;\n",
       "    }\n",
       "\n",
       "    .dataframe tbody tr th {\n",
       "        vertical-align: top;\n",
       "    }\n",
       "\n",
       "    .dataframe thead th {\n",
       "        text-align: right;\n",
       "    }\n",
       "</style>\n",
       "<table border=\"1\" class=\"dataframe\">\n",
       "  <thead>\n",
       "    <tr style=\"text-align: right;\">\n",
       "      <th></th>\n",
       "      <th>Capomulin</th>\n",
       "      <th>Ramicane</th>\n",
       "      <th>Infubinol</th>\n",
       "      <th>Ceftamin</th>\n",
       "    </tr>\n",
       "  </thead>\n",
       "  <tbody>\n",
       "    <tr>\n",
       "      <th>Mean</th>\n",
       "      <td>36.6676</td>\n",
       "      <td>36.1914</td>\n",
       "      <td>58.1782</td>\n",
       "      <td>57.754</td>\n",
       "    </tr>\n",
       "    <tr>\n",
       "      <th>Mode</th>\n",
       "      <td>0     23.343598\n",
       "1     28.430964\n",
       "2     28.48403...</td>\n",
       "      <td>0     22.050126\n",
       "1     29.128472\n",
       "2     30.27623...</td>\n",
       "      <td>0     36.321346\n",
       "1     45.699331\n",
       "2     46.25011...</td>\n",
       "      <td>0    45.0\n",
       "dtype: float64</td>\n",
       "    </tr>\n",
       "    <tr>\n",
       "      <th>Lower Bound</th>\n",
       "      <td>20.7046</td>\n",
       "      <td>17.9127</td>\n",
       "      <td>36.8329</td>\n",
       "      <td>25.3554</td>\n",
       "    </tr>\n",
       "    <tr>\n",
       "      <th>Upper Bound</th>\n",
       "      <td>51.832</td>\n",
       "      <td>54.3068</td>\n",
       "      <td>82.7414</td>\n",
       "      <td>87.6665</td>\n",
       "    </tr>\n",
       "    <tr>\n",
       "      <th>Median</th>\n",
       "      <td>38.1252</td>\n",
       "      <td>36.5617</td>\n",
       "      <td>60.1652</td>\n",
       "      <td>59.852</td>\n",
       "    </tr>\n",
       "    <tr>\n",
       "      <th>IQR</th>\n",
       "      <td>7.78186</td>\n",
       "      <td>9.09854</td>\n",
       "      <td>11.4771</td>\n",
       "      <td>15.5778</td>\n",
       "    </tr>\n",
       "    <tr>\n",
       "      <th>Potential Outliers</th>\n",
       "      <td>[]</td>\n",
       "      <td>[]</td>\n",
       "      <td>[5]</td>\n",
       "      <td>[]</td>\n",
       "    </tr>\n",
       "  </tbody>\n",
       "</table>\n",
       "</div>"
      ],
      "text/plain": [
       "                                                            Capomulin  \\\n",
       "Mean                                                          36.6676   \n",
       "Mode                0     23.343598\n",
       "1     28.430964\n",
       "2     28.48403...   \n",
       "Lower Bound                                                   20.7046   \n",
       "Upper Bound                                                    51.832   \n",
       "Median                                                        38.1252   \n",
       "IQR                                                           7.78186   \n",
       "Potential Outliers                                                 []   \n",
       "\n",
       "                                                             Ramicane  \\\n",
       "Mean                                                          36.1914   \n",
       "Mode                0     22.050126\n",
       "1     29.128472\n",
       "2     30.27623...   \n",
       "Lower Bound                                                   17.9127   \n",
       "Upper Bound                                                   54.3068   \n",
       "Median                                                        36.5617   \n",
       "IQR                                                           9.09854   \n",
       "Potential Outliers                                                 []   \n",
       "\n",
       "                                                            Infubinol  \\\n",
       "Mean                                                          58.1782   \n",
       "Mode                0     36.321346\n",
       "1     45.699331\n",
       "2     46.25011...   \n",
       "Lower Bound                                                   36.8329   \n",
       "Upper Bound                                                   82.7414   \n",
       "Median                                                        60.1652   \n",
       "IQR                                                           11.4771   \n",
       "Potential Outliers                                                [5]   \n",
       "\n",
       "                                    Ceftamin  \n",
       "Mean                                  57.754  \n",
       "Mode                0    45.0\n",
       "dtype: float64  \n",
       "Lower Bound                          25.3554  \n",
       "Upper Bound                          87.6665  \n",
       "Median                                59.852  \n",
       "IQR                                  15.5778  \n",
       "Potential Outliers                        []  "
      ]
     },
     "execution_count": 20,
     "metadata": {},
     "output_type": "execute_result"
    }
   ],
   "source": [
    "\n",
    "\n",
    "#Created and Imported my own function to calculate outliers and relevant information.\n",
    "#Function accepts a series as its parameter\n",
    "#Funciton returns dictionary with; Lower Bound, Upper Bound, Mean, Median, Mode, IQR, and Potential Outlier Index Positions in a list\n",
    "outlier_output_df = pd.DataFrame({'Capomulin':(outlier(cap['Tumor Volume (mm3)'])),\n",
    "              'Ramicane':(outlier(ram['Tumor Volume (mm3)'])),\n",
    "              'Infubinol': (outlier(inf['Tumor Volume (mm3)'])),\n",
    "              'Ceftamin': (outlier(ceft['Tumor Volume (mm3)']))})\n",
    "outlier_output_df\n",
    "\n",
    "\n"
   ]
  },
  {
   "cell_type": "code",
   "execution_count": 21,
   "metadata": {},
   "outputs": [
    {
     "data": {
      "image/png": "[encoded data removed]",
      "text/plain": [
       "<Figure size 432x288 with 1 Axes>"
      ]
     },
     "metadata": {
      "needs_background": "light"
     },
     "output_type": "display_data"
    }
   ],
   "source": [
    "#Using a dictionary of lists to get boxplots on same plot.\n",
    "chart_data = {'Capomulin' : cap['Tumor Volume (mm3)'],\n",
    "              'Ramicane' : ram['Tumor Volume (mm3)'],\n",
    "              'Infubinol' : inf['Tumor Volume (mm3)'],\n",
    "              'Ceftamin' : ceft['Tumor Volume (mm3)']}\n",
    "fliers = dict(marker='o', markerfacecolor='g', markersize=5, linestyle='none')\n",
    "box = plt.figure().subplots()\n",
    "box.boxplot(chart_data.values(), labels = chart_data.keys(), flierprops=fliers)\n",
    "plt.title('Final Tumor Volume of Mouse per Drug Regimen')\n",
    "plt.xlabel('Drug Regimen')\n",
    "plt.ylabel('Tumor Volume (mm3)')\n",
    "plt.tight_layout()\n",
    "plt.show()\n",
    "# Capomulin, Ramicane, Infubinol, and Ceftamin\n"
   ]
  },
  {
   "cell_type": "markdown",
   "metadata": {},
   "source": [
    "## Line and Scatter Plots"
   ]
  },
  {
   "cell_type": "code",
   "execution_count": 15,
   "metadata": {},
   "outputs": [
    {
     "data": {
      "image/png": "[encoded data removed]",
      "text/plain": [
       "<Figure size 432x288 with 1 Axes>"
      ]
     },
     "metadata": {
      "needs_background": "light"
     },
     "output_type": "display_data"
    }
   ],
   "source": [
    "# Generate a line plot of time point versus tumor volume for a mouse treated with Capomulin\\\n",
    "mouse_id = 'b128' #using variable to make chart dynamic for different mice \n",
    "mouse = clean_complete_df.loc[clean_complete_df['Mouse ID']==mouse_id]\n",
    "plt.plot(mouse['Timepoint'], mouse['Tumor Volume (mm3)'])\n",
    "plt.xlabel('Timepoint')\n",
    "plt.ylabel('Tumor Volume (mm3)')\n",
    "plt.title(f'Mouse ID: {mouse_id}')\n",
    "plt.show()\n"
   ]
  },
  {
   "cell_type": "code",
   "execution_count": 16,
   "metadata": {},
   "outputs": [
    {
     "data": {
      "image/png": "[encoded data removed]",
      "text/plain": [
       "<Figure size 432x288 with 1 Axes>"
      ]
     },
     "metadata": {
      "needs_background": "light"
     },
     "output_type": "display_data"
    }
   ],
   "source": [
    "# Generate a scatter plot of mouse weight versus average tumor volume for the Capomulin regimen\n",
    "tot_cap = clean_complete_df.loc[clean_complete_df['Drug Regimen'] == 'Capomulin']\n",
    "avg_mouse_group = tot_cap.groupby('Mouse ID').mean()\n",
    "plt.scatter(avg_mouse_group['Weight (g)'], avg_mouse_group['Tumor Volume (mm3)']) #since the weight doesnt change we can use the .mean() values for plot\n",
    "plt.xlabel('Weight (g)')\n",
    "plt.ylabel('Average Tumor Volume')\n",
    "plt.title('vs. Average Tumor Volume (mm3) vs. Weight (g) ')\n",
    "plt.show()\n"
   ]
  },
  {
   "cell_type": "markdown",
   "metadata": {},
   "source": [
    "## Correlation and Regression"
   ]
  },
  {
   "cell_type": "code",
   "execution_count": 17,
   "metadata": {},
   "outputs": [
    {
     "data": {
      "image/png": "[encoded data removed]",
      "text/plain": [
       "<Figure size 432x288 with 1 Axes>"
      ]
     },
     "metadata": {
      "needs_background": "light"
     },
     "output_type": "display_data"
    },
    {
     "name": "stdout",
     "output_type": "stream",
     "text": [
      "Rvalue: 0.84\n",
      "PValue: 1.3e-07\n"
     ]
    }
   ],
   "source": [
    "# Calculate the correlation coefficient and linear regression model \n",
    "# for mouse weight and average tumor volume for the Capomulin regimen\n",
    "x_values = avg_mouse_group['Weight (g)']\n",
    "y_values = avg_mouse_group['Tumor Volume (mm3)']\n",
    "(slope, intercept, rvalue, pvalue, stderr) = st.linregress(x_values, y_values)\n",
    "tumor_values_regress = [(slope*x)+intercept for x in x_values]\n",
    "tumor_values_regress\n",
    "plt.scatter(avg_mouse_group['Weight (g)'], avg_mouse_group['Tumor Volume (mm3)']) #since the weight doesnt change we can use the .mean() values for plot\n",
    "plt.plot(x_values, tumor_values_regress)\n",
    "equation = f'{slope:.2f}x + {intercept:.2f}'\n",
    "plt.annotate(f'Line: {equation}', (36,24), fontsize = 15, color = 'green')\n",
    "plt.xlabel('Weight (g)')\n",
    "plt.ylabel('Average Tumor Volume')\n",
    "plt.title('Average Tumor Volume (mm3) vs. Weight (g)')\n",
    "plt.show()\n",
    "print(f'Rvalue: {round(rvalue, 2)}\\nPValue: {round(pvalue, 8)}')"
   ]
  },
  {
   "cell_type": "code",
   "execution_count": null,
   "metadata": {},
   "outputs": [],
   "source": []
  }
 ],
 "metadata": {
  "anaconda-cloud": {},
  "kernelspec": {
   "display_name": "Python 3",
   "language": "python",
   "name": "python3"
  },
  "language_info": {
   "codemirror_mode": {
    "name": "ipython",
    "version": 3
   },
   "file_extension": ".py",
   "mimetype": "text/x-python",
   "name": "python",
   "nbconvert_exporter": "python",
   "pygments_lexer": "ipython3",
   "version": "3.7.6"
  }
 },
 "nbformat": 4,
 "nbformat_minor": 4
}
